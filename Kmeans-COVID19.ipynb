{
 "cells": [
  {
   "cell_type": "markdown",
   "metadata": {
    "id": "xw8KCK7bMevu"
   },
   "source": [
    "<h1 align=\"center\"><strong>Clusterización de casos positivos de COVID19 en Perú usando K-means</strong></h1>\n",
    "\n",
    "---\n",
    "\n",
    " - Dataset original:  [Casos positivos por COVID-19](https://www.datosabiertos.gob.pe/dataset/casos-positivos-por-covid-19-ministerio-de-salud-minsa)-[Ministerio de Salud - MINSA].\n",
    " - Autor: [Renzo Alexis Guerrero Huayta](https://github.com/renzoguerrero17)\n",
    "\n",
    "---\n",
    "\n",
    "\n",
    "\n"
   ]
  },
  {
   "cell_type": "markdown",
   "metadata": {
    "id": "roVOTXpMzHXg"
   },
   "source": [
    "# **Conectando Colab con Drive**"
   ]
  },
  {
   "cell_type": "code",
   "execution_count": 1,
   "metadata": {
    "colab": {
     "base_uri": "https://localhost:8080/"
    },
    "id": "vuRJCGthx1Fs",
    "outputId": "552bc839-6396-4f9e-d389-3eb979ef1184"
   },
   "outputs": [
    {
     "name": "stdout",
     "output_type": "stream",
     "text": [
      "Mounted at /content/drive\n"
     ]
    }
   ],
   "source": [
    "from google.colab import drive\n",
    "drive.mount('/content/drive')"
   ]
  },
  {
   "cell_type": "code",
   "execution_count": 75,
   "metadata": {
    "id": "4YWdwOFeyYiW"
   },
   "outputs": [],
   "source": [
    "import os\n",
    "os.chdir(\"/content/drive/MyDrive/Electivos/IAA/Evaluaciones/PC2/Clustering\")"
   ]
  },
  {
   "cell_type": "markdown",
   "metadata": {
    "id": "Dwu9p5cpzPcy"
   },
   "source": [
    "# **1.Análisis exploratorio de datos**"
   ]
  },
  {
   "cell_type": "code",
   "execution_count": 76,
   "metadata": {
    "id": "dVxpA4Mwy5DF"
   },
   "outputs": [],
   "source": [
    "import pandas as pd\n",
    "import numpy as np\n",
    "import matplotlib.pyplot as plt\n",
    "import seaborn as sns\n",
    "from sklearn.cluster import KMeans"
   ]
  },
  {
   "cell_type": "code",
   "execution_count": 77,
   "metadata": {
    "id": "7ifbLXS2zs1Q"
   },
   "outputs": [],
   "source": [
    "df = pd.read_csv(r\"positivos_covid.csv\",sep = \";\")"
   ]
  },
  {
   "cell_type": "code",
   "execution_count": 78,
   "metadata": {
    "colab": {
     "base_uri": "https://localhost:8080/",
     "height": 241
    },
    "id": "wduHD0OEf9iC",
    "outputId": "0c7ad6e4-000b-48a8-f2db-5fa48acadce4"
   },
   "outputs": [
    {
     "data": {
      "text/html": [
       "<div>\n",
       "<style scoped>\n",
       "    .dataframe tbody tr th:only-of-type {\n",
       "        vertical-align: middle;\n",
       "    }\n",
       "\n",
       "    .dataframe tbody tr th {\n",
       "        vertical-align: top;\n",
       "    }\n",
       "\n",
       "    .dataframe thead th {\n",
       "        text-align: right;\n",
       "    }\n",
       "</style>\n",
       "<table border=\"1\" class=\"dataframe\">\n",
       "  <thead>\n",
       "    <tr style=\"text-align: right;\">\n",
       "      <th></th>\n",
       "      <th>FECHA_CORTE</th>\n",
       "      <th>UUID</th>\n",
       "      <th>DEPARTAMENTO</th>\n",
       "      <th>PROVINCIA</th>\n",
       "      <th>DISTRITO</th>\n",
       "      <th>METODODX</th>\n",
       "      <th>EDAD</th>\n",
       "      <th>SEXO</th>\n",
       "      <th>FECHA_RESULTADO</th>\n",
       "    </tr>\n",
       "  </thead>\n",
       "  <tbody>\n",
       "    <tr>\n",
       "      <th>0</th>\n",
       "      <td>20210109</td>\n",
       "      <td>7320cabdc1aaca6c59014cae76a134e6</td>\n",
       "      <td>TUMBES</td>\n",
       "      <td>ZARUMILLA</td>\n",
       "      <td>ZARUMILLA</td>\n",
       "      <td>PR</td>\n",
       "      <td>48.0</td>\n",
       "      <td>FEMENINO</td>\n",
       "      <td>20200511.0</td>\n",
       "    </tr>\n",
       "    <tr>\n",
       "      <th>1</th>\n",
       "      <td>20210109</td>\n",
       "      <td>cecdbf10074dbc011ae05b3cbd320a6f</td>\n",
       "      <td>TUMBES</td>\n",
       "      <td>ZARUMILLA</td>\n",
       "      <td>ZARUMILLA</td>\n",
       "      <td>PR</td>\n",
       "      <td>57.0</td>\n",
       "      <td>FEMENINO</td>\n",
       "      <td>20200530.0</td>\n",
       "    </tr>\n",
       "    <tr>\n",
       "      <th>2</th>\n",
       "      <td>20210109</td>\n",
       "      <td>566af4276cbe9359abe93f9aa86396c3</td>\n",
       "      <td>TUMBES</td>\n",
       "      <td>ZARUMILLA</td>\n",
       "      <td>ZARUMILLA</td>\n",
       "      <td>PR</td>\n",
       "      <td>30.0</td>\n",
       "      <td>FEMENINO</td>\n",
       "      <td>20200429.0</td>\n",
       "    </tr>\n",
       "    <tr>\n",
       "      <th>3</th>\n",
       "      <td>20210109</td>\n",
       "      <td>027561e9d126e7c283d79c02cede562d</td>\n",
       "      <td>TUMBES</td>\n",
       "      <td>ZARUMILLA</td>\n",
       "      <td>ZARUMILLA</td>\n",
       "      <td>PR</td>\n",
       "      <td>38.0</td>\n",
       "      <td>FEMENINO</td>\n",
       "      <td>20200429.0</td>\n",
       "    </tr>\n",
       "    <tr>\n",
       "      <th>4</th>\n",
       "      <td>20210109</td>\n",
       "      <td>f016889b9ba5bd95cf15d60205cbd82e</td>\n",
       "      <td>UCAYALI</td>\n",
       "      <td>CORONEL PORTILLO</td>\n",
       "      <td>CALLERIA</td>\n",
       "      <td>PR</td>\n",
       "      <td>40.0</td>\n",
       "      <td>FEMENINO</td>\n",
       "      <td>20200422.0</td>\n",
       "    </tr>\n",
       "  </tbody>\n",
       "</table>\n",
       "</div>"
      ],
      "text/plain": [
       "   FECHA_CORTE                              UUID DEPARTAMENTO  \\\n",
       "0     20210109  7320cabdc1aaca6c59014cae76a134e6       TUMBES   \n",
       "1     20210109  cecdbf10074dbc011ae05b3cbd320a6f       TUMBES   \n",
       "2     20210109  566af4276cbe9359abe93f9aa86396c3       TUMBES   \n",
       "3     20210109  027561e9d126e7c283d79c02cede562d       TUMBES   \n",
       "4     20210109  f016889b9ba5bd95cf15d60205cbd82e      UCAYALI   \n",
       "\n",
       "          PROVINCIA   DISTRITO METODODX  EDAD      SEXO  FECHA_RESULTADO  \n",
       "0         ZARUMILLA  ZARUMILLA       PR  48.0  FEMENINO       20200511.0  \n",
       "1         ZARUMILLA  ZARUMILLA       PR  57.0  FEMENINO       20200530.0  \n",
       "2         ZARUMILLA  ZARUMILLA       PR  30.0  FEMENINO       20200429.0  \n",
       "3         ZARUMILLA  ZARUMILLA       PR  38.0  FEMENINO       20200429.0  \n",
       "4  CORONEL PORTILLO   CALLERIA       PR  40.0  FEMENINO       20200422.0  "
      ]
     },
     "execution_count": 78,
     "metadata": {},
     "output_type": "execute_result"
    }
   ],
   "source": [
    "# Visualizacion global de los datos\n",
    "df.head()"
   ]
  },
  {
   "cell_type": "code",
   "execution_count": 79,
   "metadata": {
    "colab": {
     "base_uri": "https://localhost:8080/"
    },
    "id": "dpWQJhdpfoO6",
    "outputId": "a4d9b901-d4b2-4199-bb61-bc223ecd0df2"
   },
   "outputs": [
    {
     "name": "stdout",
     "output_type": "stream",
     "text": [
      "<class 'pandas.core.frame.DataFrame'>\n",
      "RangeIndex: 1035184 entries, 0 to 1035183\n",
      "Data columns (total 9 columns):\n",
      " #   Column           Non-Null Count    Dtype  \n",
      "---  ------           --------------    -----  \n",
      " 0   FECHA_CORTE      1035184 non-null  int64  \n",
      " 1   UUID             1035184 non-null  object \n",
      " 2   DEPARTAMENTO     1035184 non-null  object \n",
      " 3   PROVINCIA        1035184 non-null  object \n",
      " 4   DISTRITO         1035184 non-null  object \n",
      " 5   METODODX         1035184 non-null  object \n",
      " 6   EDAD             1035126 non-null  float64\n",
      " 7   SEXO             1035184 non-null  object \n",
      " 8   FECHA_RESULTADO  1033480 non-null  float64\n",
      "dtypes: float64(2), int64(1), object(6)\n",
      "memory usage: 71.1+ MB\n"
     ]
    }
   ],
   "source": [
    "# Informacion del dataset\n",
    "df.info()"
   ]
  },
  {
   "cell_type": "code",
   "execution_count": 80,
   "metadata": {
    "colab": {
     "base_uri": "https://localhost:8080/"
    },
    "id": "_XV8N8W0z1fc",
    "outputId": "ef411992-bbd0-4d03-ed12-032d76859e6f"
   },
   "outputs": [
    {
     "data": {
      "text/plain": [
       "(1035184, 9)"
      ]
     },
     "execution_count": 80,
     "metadata": {},
     "output_type": "execute_result"
    }
   ],
   "source": [
    "# Dimension original del dataset\n",
    "df.shape"
   ]
  },
  {
   "cell_type": "code",
   "execution_count": 81,
   "metadata": {
    "colab": {
     "base_uri": "https://localhost:8080/"
    },
    "id": "QHKRmo9tEOGK",
    "outputId": "9db12c95-743a-4170-8892-cfd338522827"
   },
   "outputs": [
    {
     "data": {
      "text/plain": [
       "FECHA_CORTE           0\n",
       "UUID                  0\n",
       "DEPARTAMENTO          0\n",
       "PROVINCIA             0\n",
       "DISTRITO              0\n",
       "METODODX              0\n",
       "EDAD                 58\n",
       "SEXO                  0\n",
       "FECHA_RESULTADO    1704\n",
       "dtype: int64"
      ]
     },
     "execution_count": 81,
     "metadata": {},
     "output_type": "execute_result"
    }
   ],
   "source": [
    "# Vemos si hay valores nulos o no\n",
    "df.isnull().sum()"
   ]
  },
  {
   "cell_type": "markdown",
   "metadata": {
    "id": "jHuuWEB7xzH-"
   },
   "source": [
    "## **Departamento**"
   ]
  },
  {
   "cell_type": "code",
   "execution_count": 82,
   "metadata": {
    "colab": {
     "base_uri": "https://localhost:8080/"
    },
    "id": "8qush7H90TgF",
    "outputId": "1883de48-a27b-4a18-edd1-146e17f7aed3"
   },
   "outputs": [
    {
     "name": "stdout",
     "output_type": "stream",
     "text": [
      "LIMA             426143\n",
      "AREQUIPA          49248\n",
      "CALLAO            44205\n",
      "PIURA             43595\n",
      "LA LIBERTAD       38063\n",
      "LAMBAYEQUE        33844\n",
      "LIMA REGION       33037\n",
      "ICA               32559\n",
      "ANCASH            31950\n",
      "JUNIN             29073\n",
      "LORETO            26476\n",
      "SAN MARTIN        26081\n",
      "CAJAMARCA         26047\n",
      "CUSCO             25836\n",
      "HUANUCO           21081\n",
      "UCAYALI           20661\n",
      "PUNO              19545\n",
      "AMAZONAS          18689\n",
      "MOQUEGUA          16417\n",
      "AYACUCHO          15536\n",
      "TACNA             15015\n",
      "MADRE DE DIOS      9621\n",
      "TUMBES             9595\n",
      "APURIMAC           8114\n",
      "HUANCAVELICA       7950\n",
      "PASCO              6803\n",
      "Name: DEPARTAMENTO, dtype: int64\n",
      "Número de departamentos:  26\n"
     ]
    }
   ],
   "source": [
    "ocurrencias_dpto = df['DEPARTAMENTO'].value_counts()\n",
    "print(ocurrencias_dpto)\n",
    "print(\"Número de departamentos: \", ocurrencias_dpto.shape[0])"
   ]
  },
  {
   "cell_type": "code",
   "execution_count": 83,
   "metadata": {
    "colab": {
     "base_uri": "https://localhost:8080/"
    },
    "id": "-M1QbhUBho0I",
    "outputId": "f0b63132-0167-4b9b-8221-340642824632"
   },
   "outputs": [
    {
     "data": {
      "text/plain": [
       "Series([], Name: DEPARTAMENTO, dtype: int64)"
      ]
     },
     "execution_count": 83,
     "metadata": {},
     "output_type": "execute_result"
    }
   ],
   "source": [
    "# Vemos si hay departamentos que tengan la misma cantidad de casos covid\n",
    "ocurrencias_dpto[ocurrencias_dpto.duplicated(keep=False)]"
   ]
  },
  {
   "cell_type": "code",
   "execution_count": 10,
   "metadata": {
    "id": "pbLjb1-Dipnn"
   },
   "outputs": [],
   "source": [
    "# De la celda anterior vemos que no hay departamentos con la misma cantidad de casos de covid"
   ]
  },
  {
   "cell_type": "code",
   "execution_count": 84,
   "metadata": {
    "colab": {
     "base_uri": "https://localhost:8080/"
    },
    "id": "pF-eaxP4EgGj",
    "outputId": "fdcb2c50-ce52-450e-f76c-30cc8e1700d3"
   },
   "outputs": [
    {
     "name": "stdout",
     "output_type": "stream",
     "text": [
      "LIMA             0.411659\n",
      "AREQUIPA         0.047574\n",
      "CALLAO           0.042703\n",
      "PIURA            0.042113\n",
      "LA LIBERTAD      0.036769\n",
      "LAMBAYEQUE       0.032694\n",
      "LIMA REGION      0.031914\n",
      "ICA              0.031452\n",
      "ANCASH           0.030864\n",
      "JUNIN            0.028085\n",
      "LORETO           0.025576\n",
      "SAN MARTIN       0.025195\n",
      "CAJAMARCA        0.025162\n",
      "CUSCO            0.024958\n",
      "HUANUCO          0.020364\n",
      "UCAYALI          0.019959\n",
      "PUNO             0.018881\n",
      "AMAZONAS         0.018054\n",
      "MOQUEGUA         0.015859\n",
      "AYACUCHO         0.015008\n",
      "TACNA            0.014505\n",
      "MADRE DE DIOS    0.009294\n",
      "TUMBES           0.009269\n",
      "APURIMAC         0.007838\n",
      "HUANCAVELICA     0.007680\n",
      "PASCO            0.006572\n",
      "Name: DEPARTAMENTO, dtype: float64\n"
     ]
    }
   ],
   "source": [
    "# Vemos en % \n",
    "porcen_departamentos = ocurrencias_dpto/df.DEPARTAMENTO.shape[0]\n",
    "print(porcen_departamentos)"
   ]
  },
  {
   "cell_type": "code",
   "execution_count": 85,
   "metadata": {
    "colab": {
     "base_uri": "https://localhost:8080/"
    },
    "id": "WOI15ikSYE3c",
    "outputId": "f6c49ab6-8b6d-40ae-fae4-daf89af60d67"
   },
   "outputs": [
    {
     "name": "stdout",
     "output_type": "stream",
     "text": [
      "LIMA             0.411659\n",
      "AREQUIPA         0.459233\n",
      "CALLAO           0.501936\n",
      "PIURA            0.544049\n",
      "LA LIBERTAD      0.580818\n",
      "LAMBAYEQUE       0.613512\n",
      "LIMA REGION      0.645426\n",
      "ICA              0.676879\n",
      "ANCASH           0.707743\n",
      "JUNIN            0.735828\n",
      "LORETO           0.761404\n",
      "SAN MARTIN       0.786598\n",
      "CAJAMARCA        0.811760\n",
      "CUSCO            0.836718\n",
      "HUANUCO          0.857082\n",
      "UCAYALI          0.877041\n",
      "PUNO             0.895922\n",
      "AMAZONAS         0.913976\n",
      "MOQUEGUA         0.929835\n",
      "AYACUCHO         0.944843\n",
      "TACNA            0.959347\n",
      "MADRE DE DIOS    0.968641\n",
      "TUMBES           0.977910\n",
      "APURIMAC         0.985748\n",
      "HUANCAVELICA     0.993428\n",
      "PASCO            1.000000\n",
      "dtype: float64\n"
     ]
    }
   ],
   "source": [
    "# Acumulado\n",
    "sum = 0\n",
    "acumulado_dep = {}\n",
    "for i in range(len(porcen_departamentos)):\n",
    "  aporte = porcen_departamentos[i]\n",
    "  dep = porcen_departamentos.index[i]\n",
    "  sum = sum + aporte\n",
    "  acumulado_dep.setdefault(dep,sum)\n",
    "acumulado_dep = pd.Series(acumulado_dep)\n",
    "print(acumulado_dep)"
   ]
  },
  {
   "cell_type": "code",
   "execution_count": 86,
   "metadata": {
    "colab": {
     "base_uri": "https://localhost:8080/",
     "height": 568
    },
    "id": "TAIQYCN0EzPL",
    "outputId": "3cc2fce6-4a03-4c57-c1b4-c79c1433225a"
   },
   "outputs": [
    {
     "data": {
      "image/png": "[encoded data removed]",
      "text/plain": [
       "<Figure size 1440x720 with 1 Axes>"
      ]
     },
     "metadata": {
      "needs_background": "light"
     },
     "output_type": "display_data"
    }
   ],
   "source": [
    "plt.figure(figsize=(20,10))\n",
    "porcen_departamentos.plot(kind = 'bar', rot=0)\n",
    "plt.xticks(range(len(porcen_departamentos)), list(porcen_departamentos.index.values),rotation=90)\n",
    "plt.title(\"Distribución de casos positivos de COVID19 por departamentos en %\")\n",
    "plt.xlabel(\"Departamento\")\n",
    "plt.ylabel(\"Porcentaje\")\n",
    "plt.show()"
   ]
  },
  {
   "cell_type": "markdown",
   "metadata": {
    "id": "UiwD6k6_x4T4"
   },
   "source": [
    "## **Provincia**"
   ]
  },
  {
   "cell_type": "code",
   "execution_count": 87,
   "metadata": {
    "colab": {
     "base_uri": "https://localhost:8080/"
    },
    "id": "glQ6fzRi00Lu",
    "outputId": "150df881-7c9e-4c10-c358-5a685804071f"
   },
   "outputs": [
    {
     "name": "stdout",
     "output_type": "stream",
     "text": [
      "LIMA                394864\n",
      "EN INVESTIGACIÓN     55582\n",
      "AREQUIPA             42274\n",
      "CALLAO               41856\n",
      "TRUJILLO             25623\n",
      "                     ...  \n",
      "ANTONIO RAIMONDI        54\n",
      "CORONGO                 37\n",
      "SUCRE                   36\n",
      "CAJATAMBO               35\n",
      "BOLIVAR                 18\n",
      "Name: PROVINCIA, Length: 197, dtype: int64\n",
      "Numero de provincias:  197\n"
     ]
    }
   ],
   "source": [
    "ocurrencias_prov = df['PROVINCIA'].value_counts()\n",
    "print(ocurrencias_prov)\n",
    "print(\"Numero de provincias: \", ocurrencias_prov.shape[0])"
   ]
  },
  {
   "cell_type": "code",
   "execution_count": 88,
   "metadata": {
    "colab": {
     "base_uri": "https://localhost:8080/"
    },
    "id": "fKukUVCyJAD-",
    "outputId": "408dd488-7d5d-4ba1-9b81-3ce697e028d4"
   },
   "outputs": [
    {
     "name": "stdout",
     "output_type": "stream",
     "text": [
      "LIMA                0.381443\n",
      "EN INVESTIGACIÓN    0.053693\n",
      "AREQUIPA            0.040837\n",
      "CALLAO              0.040433\n",
      "TRUJILLO            0.024752\n",
      "                      ...   \n",
      "ANTONIO RAIMONDI    0.000052\n",
      "CORONGO             0.000036\n",
      "SUCRE               0.000035\n",
      "CAJATAMBO           0.000034\n",
      "BOLIVAR             0.000017\n",
      "Name: PROVINCIA, Length: 197, dtype: float64\n"
     ]
    }
   ],
   "source": [
    "# Vemos en % \n",
    "porcen_provincias = df['PROVINCIA'].value_counts()/df.PROVINCIA.shape[0]\n",
    "print(porcen_provincias)"
   ]
  },
  {
   "cell_type": "code",
   "execution_count": 89,
   "metadata": {
    "colab": {
     "base_uri": "https://localhost:8080/"
    },
    "id": "HsCldni2jJrn",
    "outputId": "67c44a53-0bd4-4aa1-f078-feb1338cd90f"
   },
   "outputs": [
    {
     "data": {
      "text/plain": [
       "HUARAZ                  6817\n",
       "LAMBAYEQUE              6817\n",
       "LUCANAS                  761\n",
       "PATAZ                    761\n",
       "SANDIA                   361\n",
       "POMABAMBA                361\n",
       "CHINCHEROS               358\n",
       "CHURCAMPA                358\n",
       "ANTABAMBA                127\n",
       "RODRIGUEZ DE MENDOZA     127\n",
       "PALLASCA                  83\n",
       "OCROS                     83\n",
       "Name: PROVINCIA, dtype: int64"
      ]
     },
     "execution_count": 89,
     "metadata": {},
     "output_type": "execute_result"
    }
   ],
   "source": [
    "# Vemos si hay provincias que tengan la misma cantidad de casos covid\n",
    "ocurrencias_prov[ocurrencias_prov.duplicated(keep=False)]"
   ]
  },
  {
   "cell_type": "code",
   "execution_count": 90,
   "metadata": {
    "colab": {
     "base_uri": "https://localhost:8080/"
    },
    "id": "BBV5Yy5alh_x",
    "outputId": "943754d1-a096-4aac-b4f2-19f48263046a"
   },
   "outputs": [
    {
     "name": "stdout",
     "output_type": "stream",
     "text": [
      "[['PALLASCA', 'OCROS'], ['ANTABAMBA', 'RODRIGUEZ DE MENDOZA'], ['CHINCHEROS', 'CHURCAMPA'], ['SANDIA', 'POMABAMBA'], ['LUCANAS', 'PATAZ'], ['HUARAZ', 'LAMBAYEQUE']]\n",
      "6\n"
     ]
    }
   ],
   "source": [
    "# Agrupamos departamentos que tengan la misma cantidad de casos de covid\n",
    "prov1 = ocurrencias_prov[ocurrencias_prov.duplicated(keep=False)]\n",
    "prov1 = prov1.groupby(prov1.values.tolist()).apply(lambda x: x.index.tolist()).values.tolist()\n",
    "print(prov1)\n",
    "print(len(prov1))"
   ]
  },
  {
   "cell_type": "markdown",
   "metadata": {
    "id": "ioUz7JHyutyu"
   },
   "source": [
    "---\n",
    "\n",
    "**Conclusión**: De las celdas anteriores podemos indicar que hay 12 departamentos dividosen 6 grupos , los cuales comparten en cada grupo el mismo número de infectados de COVID19, por ejemplo OCROS y PALLASCA tienen un total de 83 contagiados cada uno.\n",
    "\n",
    "---\n",
    "\n"
   ]
  },
  {
   "cell_type": "markdown",
   "metadata": {
    "id": "2OaS8yOux8sT"
   },
   "source": [
    "## **Distrito**"
   ]
  },
  {
   "cell_type": "code",
   "execution_count": 91,
   "metadata": {
    "colab": {
     "base_uri": "https://localhost:8080/"
    },
    "id": "ddaz5pUP1Ttr",
    "outputId": "ba573771-7a63-4799-ff3d-82c2efd45c52"
   },
   "outputs": [
    {
     "name": "stdout",
     "output_type": "stream",
     "text": [
      "EN INVESTIGACIÓN           55582\n",
      "SAN JUAN DE LURIGANCHO     38277\n",
      "LIMA                       34997\n",
      "SAN MARTIN DE PORRES       26229\n",
      "COMAS                      23224\n",
      "                           ...  \n",
      "SALAMANCA                      1\n",
      "PEDRO VILCA APAZA              1\n",
      "ABELARDO PARDO LEZAMETA        1\n",
      "MACA                           1\n",
      "HUANGASCAR                     1\n",
      "Name: DISTRITO, Length: 1654, dtype: int64\n",
      "Numero de distritos:  1654\n"
     ]
    }
   ],
   "source": [
    "ocurrencias_dist = df['DISTRITO'].value_counts()\n",
    "print(ocurrencias_dist)\n",
    "print(\"Numero de distritos: \",ocurrencias_dist.shape[0])"
   ]
  },
  {
   "cell_type": "code",
   "execution_count": 92,
   "metadata": {
    "colab": {
     "base_uri": "https://localhost:8080/"
    },
    "id": "D1_6Cya1LbHp",
    "outputId": "33f7ec7f-8015-438a-94af-428e13a8958b"
   },
   "outputs": [
    {
     "name": "stdout",
     "output_type": "stream",
     "text": [
      "EN INVESTIGACIÓN           5.369287e-02\n",
      "SAN JUAN DE LURIGANCHO     3.697604e-02\n",
      "LIMA                       3.380752e-02\n",
      "SAN MARTIN DE PORRES       2.533752e-02\n",
      "COMAS                      2.243466e-02\n",
      "                               ...     \n",
      "SALAMANCA                  9.660118e-07\n",
      "PEDRO VILCA APAZA          9.660118e-07\n",
      "ABELARDO PARDO LEZAMETA    9.660118e-07\n",
      "MACA                       9.660118e-07\n",
      "HUANGASCAR                 9.660118e-07\n",
      "Name: DISTRITO, Length: 1654, dtype: float64\n"
     ]
    }
   ],
   "source": [
    "# Vemos en % \n",
    "porcen_distritos = ocurrencias_dist/df.DISTRITO.shape[0]\n",
    "print(porcen_distritos)"
   ]
  },
  {
   "cell_type": "code",
   "execution_count": 93,
   "metadata": {
    "colab": {
     "base_uri": "https://localhost:8080/"
    },
    "id": "BVsrQIJmkscq",
    "outputId": "4afdfde9-9158-4809-f78f-386fd3fb9efd"
   },
   "outputs": [
    {
     "data": {
      "text/plain": [
       "HUAMACHUCO                 1467\n",
       "PANGOA                     1467\n",
       "VISTA ALEGRE                786\n",
       "TIGRE                       786\n",
       "CHOTA                       634\n",
       "                           ... \n",
       "SALAMANCA                     1\n",
       "PEDRO VILCA APAZA             1\n",
       "ABELARDO PARDO LEZAMETA       1\n",
       "MACA                          1\n",
       "HUANGASCAR                    1\n",
       "Name: DISTRITO, Length: 1302, dtype: int64"
      ]
     },
     "execution_count": 93,
     "metadata": {},
     "output_type": "execute_result"
    }
   ],
   "source": [
    "# Vemos si hay distritos que tengan la misma cantidad de casos covid\n",
    "ocurrencias_dist[ocurrencias_dist.duplicated(keep=False)]"
   ]
  },
  {
   "cell_type": "code",
   "execution_count": 94,
   "metadata": {
    "colab": {
     "base_uri": "https://localhost:8080/"
    },
    "id": "PXp9GiqkrrAA",
    "outputId": "a4a2ff2d-78e9-4d66-f2fc-5b3cbd14c04d"
   },
   "outputs": [
    {
     "name": "stdout",
     "output_type": "stream",
     "text": [
      "175\n"
     ]
    }
   ],
   "source": [
    "# Agrupamos distritos que tengan la misma cantidad de casos de covid\n",
    "dist1 = ocurrencias_dist[ocurrencias_dist.duplicated(keep=False)]\n",
    "dist1 = dist1.groupby(dist1.values.tolist()).apply(lambda x: x.index.tolist()).values.tolist()\n",
    "#print(dist1)\n",
    "print(len(dist1))"
   ]
  },
  {
   "cell_type": "markdown",
   "metadata": {
    "id": "LhsuZs8NvfF6"
   },
   "source": [
    "---\n",
    "\n",
    "\n",
    "**Conclusión**: De las celdas anteriores podemos indicar que hay 1302 distritos divididos en 175 grupos , los cuales comparten en cada grupo el mismo número de infectados de COVID19.\n",
    "\n",
    "\n",
    "---\n",
    "\n"
   ]
  },
  {
   "cell_type": "markdown",
   "metadata": {
    "id": "OCb1VbMkk-XB"
   },
   "source": [
    "## **Metododx**"
   ]
  },
  {
   "cell_type": "code",
   "execution_count": 95,
   "metadata": {
    "colab": {
     "base_uri": "https://localhost:8080/"
    },
    "id": "ChSIJOPd2nz6",
    "outputId": "df2477fc-1337-4884-f747-f6804513c75f"
   },
   "outputs": [
    {
     "name": "stdout",
     "output_type": "stream",
     "text": [
      "PR     786042\n",
      "PCR    247606\n",
      "AG       1536\n",
      "Name: METODODX, dtype: int64\n"
     ]
    }
   ],
   "source": [
    "print(df['METODODX'].value_counts())"
   ]
  },
  {
   "cell_type": "markdown",
   "metadata": {
    "id": "TtPNq8g_yIJa"
   },
   "source": [
    "## **Edad**"
   ]
  },
  {
   "cell_type": "code",
   "execution_count": 96,
   "metadata": {
    "colab": {
     "base_uri": "https://localhost:8080/"
    },
    "id": "tjfd8QEc3oto",
    "outputId": "82036a79-64b4-453f-8498-3dcaaea1b9b6"
   },
   "outputs": [
    {
     "name": "stdout",
     "output_type": "stream",
     "text": [
      "count    1.035126e+06\n",
      "mean     4.201546e+01\n",
      "std      1.808412e+01\n",
      "min      0.000000e+00\n",
      "25%      2.900000e+01\n",
      "50%      4.100000e+01\n",
      "75%      5.400000e+01\n",
      "max      1.210000e+02\n",
      "Name: EDAD, dtype: float64\n"
     ]
    }
   ],
   "source": [
    "print(df['EDAD'].describe())"
   ]
  },
  {
   "cell_type": "code",
   "execution_count": 27,
   "metadata": {
    "colab": {
     "base_uri": "https://localhost:8080/",
     "height": 285
    },
    "id": "Q0Icc30HPy1T",
    "outputId": "3b747b51-a2cb-4ccf-ddfc-b00083737952"
   },
   "outputs": [
    {
     "data": {
      "image/png": "[encoded data removed]",
      "text/plain": [
       "<Figure size 432x288 with 1 Axes>"
      ]
     },
     "metadata": {
      "tags": []
     },
     "output_type": "display_data"
    }
   ],
   "source": [
    "## Boxplot para Edad ##\n",
    "sns.set_theme(style=\"whitegrid\")\n",
    "ax = sns.boxplot(x=df[\"EDAD\"])"
   ]
  },
  {
   "cell_type": "code",
   "execution_count": 97,
   "metadata": {
    "colab": {
     "base_uri": "https://localhost:8080/"
    },
    "id": "1K29Ih-1gvww",
    "outputId": "556c8e35-eb7c-48d5-b4f5-5a4d67f50567"
   },
   "outputs": [
    {
     "name": "stdout",
     "output_type": "stream",
     "text": [
      "El limite inferior es:  -8\n",
      "El limite superior es:  92\n"
     ]
    }
   ],
   "source": [
    "# Definimos los limites inferior y superior\n",
    "limit_inf= round(int(df['EDAD'].describe()[4]) - 1.5*(int(df['EDAD'].describe()[6]) - int(df['EDAD'].describe()[4])))\n",
    "limit_sup= round(int(df['EDAD'].describe()[6]) + 1.5*(int(df['EDAD'].describe()[6]) - int(df['EDAD'].describe()[4])))\n",
    "print(\"El limite inferior es: \",limit_inf)\n",
    "print(\"El limite superior es: \",limit_sup)"
   ]
  },
  {
   "cell_type": "markdown",
   "metadata": {
    "id": "1pcWKirkyMT7"
   },
   "source": [
    "## **Sexo**"
   ]
  },
  {
   "cell_type": "code",
   "execution_count": 98,
   "metadata": {
    "colab": {
     "base_uri": "https://localhost:8080/"
    },
    "id": "38XsY9ck3xe8",
    "outputId": "9aa9760d-07ef-40dc-f36f-7f8a363e1b8a"
   },
   "outputs": [
    {
     "name": "stdout",
     "output_type": "stream",
     "text": [
      "MASCULINO    533968\n",
      "FEMENINO     501216\n",
      "Name: SEXO, dtype: int64\n"
     ]
    }
   ],
   "source": [
    "print(df['SEXO'].value_counts())"
   ]
  },
  {
   "cell_type": "code",
   "execution_count": 99,
   "metadata": {
    "colab": {
     "base_uri": "https://localhost:8080/"
    },
    "id": "7ksriCBCO0BX",
    "outputId": "20c80069-6817-41e2-bbec-4a6f0c5aebed"
   },
   "outputs": [
    {
     "name": "stdout",
     "output_type": "stream",
     "text": [
      "MASCULINO    0.515819\n",
      "FEMENINO     0.484181\n",
      "Name: SEXO, dtype: float64\n"
     ]
    }
   ],
   "source": [
    "sexos = df['SEXO'].value_counts()/df['SEXO'].shape[0]\n",
    "print(sexos)"
   ]
  },
  {
   "cell_type": "code",
   "execution_count": 100,
   "metadata": {
    "colab": {
     "base_uri": "https://localhost:8080/",
     "height": 301
    },
    "id": "YvrMB35n4eEk",
    "outputId": "824cf1a2-cacc-443c-fd97-1370f069fdee"
   },
   "outputs": [
    {
     "data": {
      "image/png": "[encoded data removed]",
      "text/plain": [
       "<Figure size 432x288 with 1 Axes>"
      ]
     },
     "metadata": {
      "needs_background": "light"
     },
     "output_type": "display_data"
    }
   ],
   "source": [
    "sexos.plot(kind = 'bar', rot=0)\n",
    "plt.xticks(range(2), ['MASCULINO', 'FEMENINO'])\n",
    "plt.title(\"Distribución por sexo en %\")\n",
    "plt.xlabel(\"Sexo\")\n",
    "plt.ylabel(\"Porcentaje\")\n",
    "plt.show()"
   ]
  },
  {
   "cell_type": "markdown",
   "metadata": {
    "id": "THgUVy65T4Zl"
   },
   "source": [
    "# **2.Preprocesamiento**"
   ]
  },
  {
   "cell_type": "markdown",
   "metadata": {
    "id": "8PHjj4YhPbmT"
   },
   "source": [
    "### **2.1.Valores nulos**"
   ]
  },
  {
   "cell_type": "code",
   "execution_count": 101,
   "metadata": {
    "colab": {
     "base_uri": "https://localhost:8080/"
    },
    "id": "TzANn_j332Nj",
    "outputId": "ab2bfbbe-f2bb-432b-c72a-4b4f4594e508"
   },
   "outputs": [
    {
     "data": {
      "text/plain": [
       "(1035184, 9)"
      ]
     },
     "execution_count": 101,
     "metadata": {},
     "output_type": "execute_result"
    }
   ],
   "source": [
    "df.shape"
   ]
  },
  {
   "cell_type": "code",
   "execution_count": 102,
   "metadata": {
    "colab": {
     "base_uri": "https://localhost:8080/"
    },
    "id": "19T3vV_E3vcP",
    "outputId": "e03e4825-5971-4ce2-d523-d2c5d625f082"
   },
   "outputs": [
    {
     "data": {
      "text/plain": [
       "(1035184, 9)"
      ]
     },
     "execution_count": 102,
     "metadata": {},
     "output_type": "execute_result"
    }
   ],
   "source": [
    "# Vemos si hay valores repetidos\n",
    "df = df.drop_duplicates()\n",
    "df.shape"
   ]
  },
  {
   "cell_type": "code",
   "execution_count": 103,
   "metadata": {
    "id": "5NZOPUVD4MVS"
   },
   "outputs": [],
   "source": [
    "# No hay valores repetidos"
   ]
  },
  {
   "cell_type": "code",
   "execution_count": 104,
   "metadata": {
    "colab": {
     "base_uri": "https://localhost:8080/",
     "height": 204
    },
    "id": "jLnckNCQ3uq7",
    "outputId": "ef078424-f2dc-42e8-93fe-d64aa936d69e"
   },
   "outputs": [
    {
     "data": {
      "text/html": [
       "<div>\n",
       "<style scoped>\n",
       "    .dataframe tbody tr th:only-of-type {\n",
       "        vertical-align: middle;\n",
       "    }\n",
       "\n",
       "    .dataframe tbody tr th {\n",
       "        vertical-align: top;\n",
       "    }\n",
       "\n",
       "    .dataframe thead th {\n",
       "        text-align: right;\n",
       "    }\n",
       "</style>\n",
       "<table border=\"1\" class=\"dataframe\">\n",
       "  <thead>\n",
       "    <tr style=\"text-align: right;\">\n",
       "      <th></th>\n",
       "      <th>DEPARTAMENTO</th>\n",
       "      <th>PROVINCIA</th>\n",
       "      <th>DISTRITO</th>\n",
       "      <th>METODODX</th>\n",
       "      <th>EDAD</th>\n",
       "      <th>SEXO</th>\n",
       "    </tr>\n",
       "  </thead>\n",
       "  <tbody>\n",
       "    <tr>\n",
       "      <th>0</th>\n",
       "      <td>TUMBES</td>\n",
       "      <td>ZARUMILLA</td>\n",
       "      <td>ZARUMILLA</td>\n",
       "      <td>PR</td>\n",
       "      <td>48.0</td>\n",
       "      <td>FEMENINO</td>\n",
       "    </tr>\n",
       "    <tr>\n",
       "      <th>1</th>\n",
       "      <td>TUMBES</td>\n",
       "      <td>ZARUMILLA</td>\n",
       "      <td>ZARUMILLA</td>\n",
       "      <td>PR</td>\n",
       "      <td>57.0</td>\n",
       "      <td>FEMENINO</td>\n",
       "    </tr>\n",
       "    <tr>\n",
       "      <th>2</th>\n",
       "      <td>TUMBES</td>\n",
       "      <td>ZARUMILLA</td>\n",
       "      <td>ZARUMILLA</td>\n",
       "      <td>PR</td>\n",
       "      <td>30.0</td>\n",
       "      <td>FEMENINO</td>\n",
       "    </tr>\n",
       "    <tr>\n",
       "      <th>3</th>\n",
       "      <td>TUMBES</td>\n",
       "      <td>ZARUMILLA</td>\n",
       "      <td>ZARUMILLA</td>\n",
       "      <td>PR</td>\n",
       "      <td>38.0</td>\n",
       "      <td>FEMENINO</td>\n",
       "    </tr>\n",
       "    <tr>\n",
       "      <th>4</th>\n",
       "      <td>UCAYALI</td>\n",
       "      <td>CORONEL PORTILLO</td>\n",
       "      <td>CALLERIA</td>\n",
       "      <td>PR</td>\n",
       "      <td>40.0</td>\n",
       "      <td>FEMENINO</td>\n",
       "    </tr>\n",
       "  </tbody>\n",
       "</table>\n",
       "</div>"
      ],
      "text/plain": [
       "  DEPARTAMENTO         PROVINCIA   DISTRITO METODODX  EDAD      SEXO\n",
       "0       TUMBES         ZARUMILLA  ZARUMILLA       PR  48.0  FEMENINO\n",
       "1       TUMBES         ZARUMILLA  ZARUMILLA       PR  57.0  FEMENINO\n",
       "2       TUMBES         ZARUMILLA  ZARUMILLA       PR  30.0  FEMENINO\n",
       "3       TUMBES         ZARUMILLA  ZARUMILLA       PR  38.0  FEMENINO\n",
       "4      UCAYALI  CORONEL PORTILLO   CALLERIA       PR  40.0  FEMENINO"
      ]
     },
     "execution_count": 104,
     "metadata": {},
     "output_type": "execute_result"
    }
   ],
   "source": [
    "# Removemos columnas que no nos dan informacion\n",
    "df = df.drop(['FECHA_CORTE','UUID','FECHA_RESULTADO'],axis = 1)\n",
    "df.head()"
   ]
  },
  {
   "cell_type": "code",
   "execution_count": 105,
   "metadata": {
    "colab": {
     "base_uri": "https://localhost:8080/"
    },
    "id": "mCIO4ZwXhqCt",
    "outputId": "f4d42896-408a-40de-a3ac-a31f9c24fa5f"
   },
   "outputs": [
    {
     "data": {
      "text/plain": [
       "DEPARTAMENTO     0\n",
       "PROVINCIA        0\n",
       "DISTRITO         0\n",
       "METODODX         0\n",
       "EDAD            58\n",
       "SEXO             0\n",
       "dtype: int64"
      ]
     },
     "execution_count": 105,
     "metadata": {},
     "output_type": "execute_result"
    }
   ],
   "source": [
    "# Valores nulos\n",
    "df.isnull().sum()"
   ]
  },
  {
   "cell_type": "code",
   "execution_count": 106,
   "metadata": {
    "id": "08N2jhpfhsR_"
   },
   "outputs": [],
   "source": [
    "# Eliminamos los valores nulos de la columna EDAD\n",
    "df_new = df.copy() # Nuevo dataset\n",
    "df_new.dropna(subset = ['EDAD'],inplace = True)"
   ]
  },
  {
   "cell_type": "code",
   "execution_count": 107,
   "metadata": {
    "colab": {
     "base_uri": "https://localhost:8080/"
    },
    "id": "5Y2K79wFjenm",
    "outputId": "bd27fe9b-a2fd-4a15-a827-332e8cebf871"
   },
   "outputs": [
    {
     "data": {
      "text/plain": [
       "DEPARTAMENTO    0\n",
       "PROVINCIA       0\n",
       "DISTRITO        0\n",
       "METODODX        0\n",
       "EDAD            0\n",
       "SEXO            0\n",
       "dtype: int64"
      ]
     },
     "execution_count": 107,
     "metadata": {},
     "output_type": "execute_result"
    }
   ],
   "source": [
    "df_new.isnull().sum()"
   ]
  },
  {
   "cell_type": "markdown",
   "metadata": {
    "id": "4eZ_j3wCPlvi"
   },
   "source": [
    "### **2.2.Valores atípicos**"
   ]
  },
  {
   "cell_type": "code",
   "execution_count": 108,
   "metadata": {
    "id": "_Zmo-jATmdy1"
   },
   "outputs": [],
   "source": [
    "# Eliminamos los valores que estan fuera de los limites del boxplot\n",
    "df_new = df_new[(df_new.EDAD>limit_inf) & (df_new.EDAD<limit_sup)]"
   ]
  },
  {
   "cell_type": "code",
   "execution_count": 57,
   "metadata": {
    "colab": {
     "base_uri": "https://localhost:8080/",
     "height": 285
    },
    "id": "NwTGqSb7GhFh",
    "outputId": "fb3688ae-e785-441c-ead4-91e366886362"
   },
   "outputs": [
    {
     "data": {
      "image/png": "[encoded data removed]",
      "text/plain": [
       "<Figure size 432x288 with 1 Axes>"
      ]
     },
     "metadata": {
      "tags": []
     },
     "output_type": "display_data"
    }
   ],
   "source": [
    "## Verificamos que ya no esten los valores atípicos ##\n",
    "sns.set_theme(style=\"whitegrid\")\n",
    "ax = sns.boxplot(x=df_new[\"EDAD\"])"
   ]
  },
  {
   "cell_type": "code",
   "execution_count": 109,
   "metadata": {},
   "outputs": [
    {
     "data": {
      "text/html": [
       "<div>\n",
       "<style scoped>\n",
       "    .dataframe tbody tr th:only-of-type {\n",
       "        vertical-align: middle;\n",
       "    }\n",
       "\n",
       "    .dataframe tbody tr th {\n",
       "        vertical-align: top;\n",
       "    }\n",
       "\n",
       "    .dataframe thead th {\n",
       "        text-align: right;\n",
       "    }\n",
       "</style>\n",
       "<table border=\"1\" class=\"dataframe\">\n",
       "  <thead>\n",
       "    <tr style=\"text-align: right;\">\n",
       "      <th></th>\n",
       "      <th>DEPARTAMENTO</th>\n",
       "      <th>PROVINCIA</th>\n",
       "      <th>DISTRITO</th>\n",
       "      <th>METODODX</th>\n",
       "      <th>EDAD</th>\n",
       "      <th>SEXO</th>\n",
       "    </tr>\n",
       "  </thead>\n",
       "  <tbody>\n",
       "    <tr>\n",
       "      <th>0</th>\n",
       "      <td>TUMBES</td>\n",
       "      <td>ZARUMILLA</td>\n",
       "      <td>ZARUMILLA</td>\n",
       "      <td>PR</td>\n",
       "      <td>48.0</td>\n",
       "      <td>FEMENINO</td>\n",
       "    </tr>\n",
       "    <tr>\n",
       "      <th>1</th>\n",
       "      <td>TUMBES</td>\n",
       "      <td>ZARUMILLA</td>\n",
       "      <td>ZARUMILLA</td>\n",
       "      <td>PR</td>\n",
       "      <td>57.0</td>\n",
       "      <td>FEMENINO</td>\n",
       "    </tr>\n",
       "    <tr>\n",
       "      <th>2</th>\n",
       "      <td>TUMBES</td>\n",
       "      <td>ZARUMILLA</td>\n",
       "      <td>ZARUMILLA</td>\n",
       "      <td>PR</td>\n",
       "      <td>30.0</td>\n",
       "      <td>FEMENINO</td>\n",
       "    </tr>\n",
       "    <tr>\n",
       "      <th>3</th>\n",
       "      <td>TUMBES</td>\n",
       "      <td>ZARUMILLA</td>\n",
       "      <td>ZARUMILLA</td>\n",
       "      <td>PR</td>\n",
       "      <td>38.0</td>\n",
       "      <td>FEMENINO</td>\n",
       "    </tr>\n",
       "    <tr>\n",
       "      <th>4</th>\n",
       "      <td>UCAYALI</td>\n",
       "      <td>CORONEL PORTILLO</td>\n",
       "      <td>CALLERIA</td>\n",
       "      <td>PR</td>\n",
       "      <td>40.0</td>\n",
       "      <td>FEMENINO</td>\n",
       "    </tr>\n",
       "  </tbody>\n",
       "</table>\n",
       "</div>"
      ],
      "text/plain": [
       "  DEPARTAMENTO         PROVINCIA   DISTRITO METODODX  EDAD      SEXO\n",
       "0       TUMBES         ZARUMILLA  ZARUMILLA       PR  48.0  FEMENINO\n",
       "1       TUMBES         ZARUMILLA  ZARUMILLA       PR  57.0  FEMENINO\n",
       "2       TUMBES         ZARUMILLA  ZARUMILLA       PR  30.0  FEMENINO\n",
       "3       TUMBES         ZARUMILLA  ZARUMILLA       PR  38.0  FEMENINO\n",
       "4      UCAYALI  CORONEL PORTILLO   CALLERIA       PR  40.0  FEMENINO"
      ]
     },
     "execution_count": 109,
     "metadata": {},
     "output_type": "execute_result"
    }
   ],
   "source": [
    "df_new.head()"
   ]
  },
  {
   "cell_type": "code",
   "execution_count": 110,
   "metadata": {},
   "outputs": [],
   "source": [
    "# Guardamos el dataset \n",
    "df_new.to_csv('./positivos_covid_procesado_v1.csv', index=False)"
   ]
  },
  {
   "cell_type": "markdown",
   "metadata": {},
   "source": [
    "## 2.3.Variables categóricas"
   ]
  },
  {
   "cell_type": "markdown",
   "metadata": {
    "id": "VGNvrE680A8n"
   },
   "source": [
    "#### **2.3.1. Reemplazamos las variables categóricas por el ratio de aparición** "
   ]
  },
  {
   "cell_type": "markdown",
   "metadata": {
    "id": "z0MtwfuF1AnK"
   },
   "source": [
    "\n",
    "---\n",
    "\n",
    "Ya que las variables categóricas \"departamento\",\"provincia\" y \"distrito\" toman muchos valores no es conveniente usar ONE-HOT encoding ya que la dimensión del dataset crecería demasiado, por eso reemplazaremos el valor de cada variable categórica por el ratio de aparición de cada una de ellas.\n",
    "\n",
    "\n",
    "---\n",
    "\n"
   ]
  },
  {
   "cell_type": "code",
   "execution_count": 111,
   "metadata": {
    "id": "UZgNStpfOwsZ"
   },
   "outputs": [],
   "source": [
    "# Reemplazamos la variable categorica \"departamento\" por su ratio de aparición\n",
    "departamento = (df_new[\"DEPARTAMENTO\"].value_counts()/df_new[\"DEPARTAMENTO\"].count()).to_dict()\n",
    "#departamento"
   ]
  },
  {
   "cell_type": "code",
   "execution_count": 112,
   "metadata": {
    "id": "9qEjD_luecO1"
   },
   "outputs": [],
   "source": [
    "df_new[\"DEPARTAMENTO\"].replace(departamento, inplace=True)"
   ]
  },
  {
   "cell_type": "code",
   "execution_count": 113,
   "metadata": {
    "id": "sAJni6KVedlL"
   },
   "outputs": [
    {
     "data": {
      "text/html": [
       "<div>\n",
       "<style scoped>\n",
       "    .dataframe tbody tr th:only-of-type {\n",
       "        vertical-align: middle;\n",
       "    }\n",
       "\n",
       "    .dataframe tbody tr th {\n",
       "        vertical-align: top;\n",
       "    }\n",
       "\n",
       "    .dataframe thead th {\n",
       "        text-align: right;\n",
       "    }\n",
       "</style>\n",
       "<table border=\"1\" class=\"dataframe\">\n",
       "  <thead>\n",
       "    <tr style=\"text-align: right;\">\n",
       "      <th></th>\n",
       "      <th>DEPARTAMENTO</th>\n",
       "      <th>PROVINCIA</th>\n",
       "      <th>DISTRITO</th>\n",
       "      <th>METODODX</th>\n",
       "      <th>EDAD</th>\n",
       "      <th>SEXO</th>\n",
       "    </tr>\n",
       "  </thead>\n",
       "  <tbody>\n",
       "    <tr>\n",
       "      <th>0</th>\n",
       "      <td>0.009270</td>\n",
       "      <td>ZARUMILLA</td>\n",
       "      <td>ZARUMILLA</td>\n",
       "      <td>PR</td>\n",
       "      <td>48.0</td>\n",
       "      <td>FEMENINO</td>\n",
       "    </tr>\n",
       "    <tr>\n",
       "      <th>1</th>\n",
       "      <td>0.009270</td>\n",
       "      <td>ZARUMILLA</td>\n",
       "      <td>ZARUMILLA</td>\n",
       "      <td>PR</td>\n",
       "      <td>57.0</td>\n",
       "      <td>FEMENINO</td>\n",
       "    </tr>\n",
       "    <tr>\n",
       "      <th>2</th>\n",
       "      <td>0.009270</td>\n",
       "      <td>ZARUMILLA</td>\n",
       "      <td>ZARUMILLA</td>\n",
       "      <td>PR</td>\n",
       "      <td>30.0</td>\n",
       "      <td>FEMENINO</td>\n",
       "    </tr>\n",
       "    <tr>\n",
       "      <th>3</th>\n",
       "      <td>0.009270</td>\n",
       "      <td>ZARUMILLA</td>\n",
       "      <td>ZARUMILLA</td>\n",
       "      <td>PR</td>\n",
       "      <td>38.0</td>\n",
       "      <td>FEMENINO</td>\n",
       "    </tr>\n",
       "    <tr>\n",
       "      <th>4</th>\n",
       "      <td>0.019976</td>\n",
       "      <td>CORONEL PORTILLO</td>\n",
       "      <td>CALLERIA</td>\n",
       "      <td>PR</td>\n",
       "      <td>40.0</td>\n",
       "      <td>FEMENINO</td>\n",
       "    </tr>\n",
       "  </tbody>\n",
       "</table>\n",
       "</div>"
      ],
      "text/plain": [
       "   DEPARTAMENTO         PROVINCIA   DISTRITO METODODX  EDAD      SEXO\n",
       "0      0.009270         ZARUMILLA  ZARUMILLA       PR  48.0  FEMENINO\n",
       "1      0.009270         ZARUMILLA  ZARUMILLA       PR  57.0  FEMENINO\n",
       "2      0.009270         ZARUMILLA  ZARUMILLA       PR  30.0  FEMENINO\n",
       "3      0.009270         ZARUMILLA  ZARUMILLA       PR  38.0  FEMENINO\n",
       "4      0.019976  CORONEL PORTILLO   CALLERIA       PR  40.0  FEMENINO"
      ]
     },
     "execution_count": 113,
     "metadata": {},
     "output_type": "execute_result"
    }
   ],
   "source": [
    "df_new.head()"
   ]
  },
  {
   "cell_type": "code",
   "execution_count": 114,
   "metadata": {
    "id": "5xDOxTtQx-jw"
   },
   "outputs": [],
   "source": [
    "# Reemplazamos la variable categorica \"provincia\" por su ratio\n",
    "provincia = (df_new[\"PROVINCIA\"].value_counts()/df_new[\"PROVINCIA\"].count()).to_dict()\n",
    "#provincia"
   ]
  },
  {
   "cell_type": "code",
   "execution_count": 115,
   "metadata": {
    "id": "XmiF9qeeewG_"
   },
   "outputs": [],
   "source": [
    "df_new[\"PROVINCIA\"].replace(provincia, inplace=True)"
   ]
  },
  {
   "cell_type": "code",
   "execution_count": 116,
   "metadata": {
    "id": "DfGglnoZexqw"
   },
   "outputs": [
    {
     "data": {
      "text/html": [
       "<div>\n",
       "<style scoped>\n",
       "    .dataframe tbody tr th:only-of-type {\n",
       "        vertical-align: middle;\n",
       "    }\n",
       "\n",
       "    .dataframe tbody tr th {\n",
       "        vertical-align: top;\n",
       "    }\n",
       "\n",
       "    .dataframe thead th {\n",
       "        text-align: right;\n",
       "    }\n",
       "</style>\n",
       "<table border=\"1\" class=\"dataframe\">\n",
       "  <thead>\n",
       "    <tr style=\"text-align: right;\">\n",
       "      <th></th>\n",
       "      <th>DEPARTAMENTO</th>\n",
       "      <th>PROVINCIA</th>\n",
       "      <th>DISTRITO</th>\n",
       "      <th>METODODX</th>\n",
       "      <th>EDAD</th>\n",
       "      <th>SEXO</th>\n",
       "    </tr>\n",
       "  </thead>\n",
       "  <tbody>\n",
       "    <tr>\n",
       "      <th>0</th>\n",
       "      <td>0.009270</td>\n",
       "      <td>0.001550</td>\n",
       "      <td>ZARUMILLA</td>\n",
       "      <td>PR</td>\n",
       "      <td>48.0</td>\n",
       "      <td>FEMENINO</td>\n",
       "    </tr>\n",
       "    <tr>\n",
       "      <th>1</th>\n",
       "      <td>0.009270</td>\n",
       "      <td>0.001550</td>\n",
       "      <td>ZARUMILLA</td>\n",
       "      <td>PR</td>\n",
       "      <td>57.0</td>\n",
       "      <td>FEMENINO</td>\n",
       "    </tr>\n",
       "    <tr>\n",
       "      <th>2</th>\n",
       "      <td>0.009270</td>\n",
       "      <td>0.001550</td>\n",
       "      <td>ZARUMILLA</td>\n",
       "      <td>PR</td>\n",
       "      <td>30.0</td>\n",
       "      <td>FEMENINO</td>\n",
       "    </tr>\n",
       "    <tr>\n",
       "      <th>3</th>\n",
       "      <td>0.009270</td>\n",
       "      <td>0.001550</td>\n",
       "      <td>ZARUMILLA</td>\n",
       "      <td>PR</td>\n",
       "      <td>38.0</td>\n",
       "      <td>FEMENINO</td>\n",
       "    </tr>\n",
       "    <tr>\n",
       "      <th>4</th>\n",
       "      <td>0.019976</td>\n",
       "      <td>0.016152</td>\n",
       "      <td>CALLERIA</td>\n",
       "      <td>PR</td>\n",
       "      <td>40.0</td>\n",
       "      <td>FEMENINO</td>\n",
       "    </tr>\n",
       "  </tbody>\n",
       "</table>\n",
       "</div>"
      ],
      "text/plain": [
       "   DEPARTAMENTO  PROVINCIA   DISTRITO METODODX  EDAD      SEXO\n",
       "0      0.009270   0.001550  ZARUMILLA       PR  48.0  FEMENINO\n",
       "1      0.009270   0.001550  ZARUMILLA       PR  57.0  FEMENINO\n",
       "2      0.009270   0.001550  ZARUMILLA       PR  30.0  FEMENINO\n",
       "3      0.009270   0.001550  ZARUMILLA       PR  38.0  FEMENINO\n",
       "4      0.019976   0.016152   CALLERIA       PR  40.0  FEMENINO"
      ]
     },
     "execution_count": 116,
     "metadata": {},
     "output_type": "execute_result"
    }
   ],
   "source": [
    "df_new.head()"
   ]
  },
  {
   "cell_type": "code",
   "execution_count": 117,
   "metadata": {
    "id": "izUOYb1Yx-jx"
   },
   "outputs": [],
   "source": [
    "# Reemplazamos la variable categorica \"distrito\" por su ratio\n",
    "distrito = (df_new[\"DISTRITO\"].value_counts()/df_new[\"DISTRITO\"].count()).to_dict()\n",
    "#distrito"
   ]
  },
  {
   "cell_type": "code",
   "execution_count": 118,
   "metadata": {
    "id": "nvHDAAsDfCO7"
   },
   "outputs": [],
   "source": [
    "df_new[\"DISTRITO\"].replace(distrito, inplace=True)"
   ]
  },
  {
   "cell_type": "code",
   "execution_count": 119,
   "metadata": {
    "id": "EJh1nz2dfEGI"
   },
   "outputs": [
    {
     "data": {
      "text/html": [
       "<div>\n",
       "<style scoped>\n",
       "    .dataframe tbody tr th:only-of-type {\n",
       "        vertical-align: middle;\n",
       "    }\n",
       "\n",
       "    .dataframe tbody tr th {\n",
       "        vertical-align: top;\n",
       "    }\n",
       "\n",
       "    .dataframe thead th {\n",
       "        text-align: right;\n",
       "    }\n",
       "</style>\n",
       "<table border=\"1\" class=\"dataframe\">\n",
       "  <thead>\n",
       "    <tr style=\"text-align: right;\">\n",
       "      <th></th>\n",
       "      <th>DEPARTAMENTO</th>\n",
       "      <th>PROVINCIA</th>\n",
       "      <th>DISTRITO</th>\n",
       "      <th>METODODX</th>\n",
       "      <th>EDAD</th>\n",
       "      <th>SEXO</th>\n",
       "    </tr>\n",
       "  </thead>\n",
       "  <tbody>\n",
       "    <tr>\n",
       "      <th>0</th>\n",
       "      <td>0.009270</td>\n",
       "      <td>0.001550</td>\n",
       "      <td>0.000810</td>\n",
       "      <td>PR</td>\n",
       "      <td>48.0</td>\n",
       "      <td>FEMENINO</td>\n",
       "    </tr>\n",
       "    <tr>\n",
       "      <th>1</th>\n",
       "      <td>0.009270</td>\n",
       "      <td>0.001550</td>\n",
       "      <td>0.000810</td>\n",
       "      <td>PR</td>\n",
       "      <td>57.0</td>\n",
       "      <td>FEMENINO</td>\n",
       "    </tr>\n",
       "    <tr>\n",
       "      <th>2</th>\n",
       "      <td>0.009270</td>\n",
       "      <td>0.001550</td>\n",
       "      <td>0.000810</td>\n",
       "      <td>PR</td>\n",
       "      <td>30.0</td>\n",
       "      <td>FEMENINO</td>\n",
       "    </tr>\n",
       "    <tr>\n",
       "      <th>3</th>\n",
       "      <td>0.009270</td>\n",
       "      <td>0.001550</td>\n",
       "      <td>0.000810</td>\n",
       "      <td>PR</td>\n",
       "      <td>38.0</td>\n",
       "      <td>FEMENINO</td>\n",
       "    </tr>\n",
       "    <tr>\n",
       "      <th>4</th>\n",
       "      <td>0.019976</td>\n",
       "      <td>0.016152</td>\n",
       "      <td>0.008484</td>\n",
       "      <td>PR</td>\n",
       "      <td>40.0</td>\n",
       "      <td>FEMENINO</td>\n",
       "    </tr>\n",
       "  </tbody>\n",
       "</table>\n",
       "</div>"
      ],
      "text/plain": [
       "   DEPARTAMENTO  PROVINCIA  DISTRITO METODODX  EDAD      SEXO\n",
       "0      0.009270   0.001550  0.000810       PR  48.0  FEMENINO\n",
       "1      0.009270   0.001550  0.000810       PR  57.0  FEMENINO\n",
       "2      0.009270   0.001550  0.000810       PR  30.0  FEMENINO\n",
       "3      0.009270   0.001550  0.000810       PR  38.0  FEMENINO\n",
       "4      0.019976   0.016152  0.008484       PR  40.0  FEMENINO"
      ]
     },
     "execution_count": 119,
     "metadata": {},
     "output_type": "execute_result"
    }
   ],
   "source": [
    "df_new.head()"
   ]
  },
  {
   "cell_type": "markdown",
   "metadata": {
    "id": "GMFAt0_X0lhS"
   },
   "source": [
    "#### **2.3.2.Variables dummy**"
   ]
  },
  {
   "cell_type": "markdown",
   "metadata": {
    "id": "aNWl_lAT1qc-"
   },
   "source": [
    "---\n",
    "Ya que las variables categóricas **\"Metododx\"** y **\"Sexo\"** no son ordinales y toman pocos valores usaremos ONE-HOT encoding para pasarlas a formato numérico.\n",
    "\n",
    "---\n",
    "\n"
   ]
  },
  {
   "cell_type": "code",
   "execution_count": 120,
   "metadata": {
    "id": "DIZIz7_Xx-j0"
   },
   "outputs": [],
   "source": [
    "# Generamos las variables dummy de METODODX y EDAD\n",
    "METODODX_dummy=pd.get_dummies(df_new[\"METODODX\"],prefix=\"METODODX\")\n",
    "SEXO_dummy=pd.get_dummies(df_new[\"SEXO\"],prefix=\"SEXO\")"
   ]
  },
  {
   "cell_type": "code",
   "execution_count": 121,
   "metadata": {
    "id": "_EWdiFzLx-j1"
   },
   "outputs": [],
   "source": [
    "#Unimos las variables tipo dummy al dataset original\n",
    "df_new=pd.concat([df_new,METODODX_dummy],axis=1)\n",
    "df_new=pd.concat([df_new,SEXO_dummy],axis=1)"
   ]
  },
  {
   "cell_type": "code",
   "execution_count": 122,
   "metadata": {
    "id": "6Jhe4Laex-j3"
   },
   "outputs": [],
   "source": [
    "# Eliminamos columnas METODODX Y SEXO\n",
    "df_new.drop(['METODODX', 'SEXO'], axis='columns', inplace=True)"
   ]
  },
  {
   "cell_type": "code",
   "execution_count": 123,
   "metadata": {
    "colab": {
     "base_uri": "https://localhost:8080/",
     "height": 204
    },
    "id": "aBO4L65gx-j4",
    "outputId": "0c6a5e44-6e25-45b9-f189-c2fbd9c47205"
   },
   "outputs": [
    {
     "data": {
      "text/html": [
       "<div>\n",
       "<style scoped>\n",
       "    .dataframe tbody tr th:only-of-type {\n",
       "        vertical-align: middle;\n",
       "    }\n",
       "\n",
       "    .dataframe tbody tr th {\n",
       "        vertical-align: top;\n",
       "    }\n",
       "\n",
       "    .dataframe thead th {\n",
       "        text-align: right;\n",
       "    }\n",
       "</style>\n",
       "<table border=\"1\" class=\"dataframe\">\n",
       "  <thead>\n",
       "    <tr style=\"text-align: right;\">\n",
       "      <th></th>\n",
       "      <th>DEPARTAMENTO</th>\n",
       "      <th>PROVINCIA</th>\n",
       "      <th>DISTRITO</th>\n",
       "      <th>EDAD</th>\n",
       "      <th>METODODX_AG</th>\n",
       "      <th>METODODX_PCR</th>\n",
       "      <th>METODODX_PR</th>\n",
       "      <th>SEXO_FEMENINO</th>\n",
       "      <th>SEXO_MASCULINO</th>\n",
       "    </tr>\n",
       "  </thead>\n",
       "  <tbody>\n",
       "    <tr>\n",
       "      <th>0</th>\n",
       "      <td>0.009270</td>\n",
       "      <td>0.001550</td>\n",
       "      <td>0.000810</td>\n",
       "      <td>48.0</td>\n",
       "      <td>0</td>\n",
       "      <td>0</td>\n",
       "      <td>1</td>\n",
       "      <td>1</td>\n",
       "      <td>0</td>\n",
       "    </tr>\n",
       "    <tr>\n",
       "      <th>1</th>\n",
       "      <td>0.009270</td>\n",
       "      <td>0.001550</td>\n",
       "      <td>0.000810</td>\n",
       "      <td>57.0</td>\n",
       "      <td>0</td>\n",
       "      <td>0</td>\n",
       "      <td>1</td>\n",
       "      <td>1</td>\n",
       "      <td>0</td>\n",
       "    </tr>\n",
       "    <tr>\n",
       "      <th>2</th>\n",
       "      <td>0.009270</td>\n",
       "      <td>0.001550</td>\n",
       "      <td>0.000810</td>\n",
       "      <td>30.0</td>\n",
       "      <td>0</td>\n",
       "      <td>0</td>\n",
       "      <td>1</td>\n",
       "      <td>1</td>\n",
       "      <td>0</td>\n",
       "    </tr>\n",
       "    <tr>\n",
       "      <th>3</th>\n",
       "      <td>0.009270</td>\n",
       "      <td>0.001550</td>\n",
       "      <td>0.000810</td>\n",
       "      <td>38.0</td>\n",
       "      <td>0</td>\n",
       "      <td>0</td>\n",
       "      <td>1</td>\n",
       "      <td>1</td>\n",
       "      <td>0</td>\n",
       "    </tr>\n",
       "    <tr>\n",
       "      <th>4</th>\n",
       "      <td>0.019976</td>\n",
       "      <td>0.016152</td>\n",
       "      <td>0.008484</td>\n",
       "      <td>40.0</td>\n",
       "      <td>0</td>\n",
       "      <td>0</td>\n",
       "      <td>1</td>\n",
       "      <td>1</td>\n",
       "      <td>0</td>\n",
       "    </tr>\n",
       "  </tbody>\n",
       "</table>\n",
       "</div>"
      ],
      "text/plain": [
       "   DEPARTAMENTO  PROVINCIA  DISTRITO  EDAD  METODODX_AG  METODODX_PCR  \\\n",
       "0      0.009270   0.001550  0.000810  48.0            0             0   \n",
       "1      0.009270   0.001550  0.000810  57.0            0             0   \n",
       "2      0.009270   0.001550  0.000810  30.0            0             0   \n",
       "3      0.009270   0.001550  0.000810  38.0            0             0   \n",
       "4      0.019976   0.016152  0.008484  40.0            0             0   \n",
       "\n",
       "   METODODX_PR  SEXO_FEMENINO  SEXO_MASCULINO  \n",
       "0            1              1               0  \n",
       "1            1              1               0  \n",
       "2            1              1               0  \n",
       "3            1              1               0  \n",
       "4            1              1               0  "
      ]
     },
     "execution_count": 123,
     "metadata": {},
     "output_type": "execute_result"
    }
   ],
   "source": [
    "df_new.head()"
   ]
  },
  {
   "cell_type": "code",
   "execution_count": 124,
   "metadata": {
    "id": "fIAHcpKcx-j6"
   },
   "outputs": [],
   "source": [
    "# Guardamos el dataset procesado\n",
    "df_new.to_csv('./positivos_covid_procesado_v2.csv', index=False)"
   ]
  },
  {
   "cell_type": "markdown",
   "metadata": {
    "id": "d1AuFHiBWDTK"
   },
   "source": [
    "# **3.Número de clusters**"
   ]
  },
  {
   "cell_type": "markdown",
   "metadata": {
    "id": "eHFItbNoCns5"
   },
   "source": [
    "## **3.1.Normalización**"
   ]
  },
  {
   "cell_type": "code",
   "execution_count": 314,
   "metadata": {
    "colab": {
     "base_uri": "https://localhost:8080/",
     "height": 204
    },
    "id": "cau206gV0n61",
    "outputId": "03204316-8b4b-4917-82ef-7e777f207d94"
   },
   "outputs": [
    {
     "data": {
      "text/html": [
       "<div>\n",
       "<style scoped>\n",
       "    .dataframe tbody tr th:only-of-type {\n",
       "        vertical-align: middle;\n",
       "    }\n",
       "\n",
       "    .dataframe tbody tr th {\n",
       "        vertical-align: top;\n",
       "    }\n",
       "\n",
       "    .dataframe thead th {\n",
       "        text-align: right;\n",
       "    }\n",
       "</style>\n",
       "<table border=\"1\" class=\"dataframe\">\n",
       "  <thead>\n",
       "    <tr style=\"text-align: right;\">\n",
       "      <th></th>\n",
       "      <th>DEPARTAMENTO</th>\n",
       "      <th>PROVINCIA</th>\n",
       "      <th>DISTRITO</th>\n",
       "      <th>EDAD</th>\n",
       "      <th>METODODX_AG</th>\n",
       "      <th>METODODX_PCR</th>\n",
       "      <th>METODODX_PR</th>\n",
       "      <th>SEXO_FEMENINO</th>\n",
       "      <th>SEXO_MASCULINO</th>\n",
       "    </tr>\n",
       "  </thead>\n",
       "  <tbody>\n",
       "    <tr>\n",
       "      <th>0</th>\n",
       "      <td>0.009270</td>\n",
       "      <td>0.001550</td>\n",
       "      <td>0.000810</td>\n",
       "      <td>48.0</td>\n",
       "      <td>0</td>\n",
       "      <td>0</td>\n",
       "      <td>1</td>\n",
       "      <td>1</td>\n",
       "      <td>0</td>\n",
       "    </tr>\n",
       "    <tr>\n",
       "      <th>1</th>\n",
       "      <td>0.009270</td>\n",
       "      <td>0.001550</td>\n",
       "      <td>0.000810</td>\n",
       "      <td>57.0</td>\n",
       "      <td>0</td>\n",
       "      <td>0</td>\n",
       "      <td>1</td>\n",
       "      <td>1</td>\n",
       "      <td>0</td>\n",
       "    </tr>\n",
       "    <tr>\n",
       "      <th>2</th>\n",
       "      <td>0.009270</td>\n",
       "      <td>0.001550</td>\n",
       "      <td>0.000810</td>\n",
       "      <td>30.0</td>\n",
       "      <td>0</td>\n",
       "      <td>0</td>\n",
       "      <td>1</td>\n",
       "      <td>1</td>\n",
       "      <td>0</td>\n",
       "    </tr>\n",
       "    <tr>\n",
       "      <th>3</th>\n",
       "      <td>0.009270</td>\n",
       "      <td>0.001550</td>\n",
       "      <td>0.000810</td>\n",
       "      <td>38.0</td>\n",
       "      <td>0</td>\n",
       "      <td>0</td>\n",
       "      <td>1</td>\n",
       "      <td>1</td>\n",
       "      <td>0</td>\n",
       "    </tr>\n",
       "    <tr>\n",
       "      <th>4</th>\n",
       "      <td>0.019976</td>\n",
       "      <td>0.016152</td>\n",
       "      <td>0.008484</td>\n",
       "      <td>40.0</td>\n",
       "      <td>0</td>\n",
       "      <td>0</td>\n",
       "      <td>1</td>\n",
       "      <td>1</td>\n",
       "      <td>0</td>\n",
       "    </tr>\n",
       "  </tbody>\n",
       "</table>\n",
       "</div>"
      ],
      "text/plain": [
       "   DEPARTAMENTO  PROVINCIA  DISTRITO  EDAD  METODODX_AG  METODODX_PCR  \\\n",
       "0      0.009270   0.001550  0.000810  48.0            0             0   \n",
       "1      0.009270   0.001550  0.000810  57.0            0             0   \n",
       "2      0.009270   0.001550  0.000810  30.0            0             0   \n",
       "3      0.009270   0.001550  0.000810  38.0            0             0   \n",
       "4      0.019976   0.016152  0.008484  40.0            0             0   \n",
       "\n",
       "   METODODX_PR  SEXO_FEMENINO  SEXO_MASCULINO  \n",
       "0            1              1               0  \n",
       "1            1              1               0  \n",
       "2            1              1               0  \n",
       "3            1              1               0  \n",
       "4            1              1               0  "
      ]
     },
     "execution_count": 314,
     "metadata": {},
     "output_type": "execute_result"
    }
   ],
   "source": [
    "df_new = pd.read_csv('./positivos_covid_procesado_v2.csv')\n",
    "df_new.head()"
   ]
  },
  {
   "cell_type": "code",
   "execution_count": 315,
   "metadata": {
    "id": "uZF3jcTBXBL2"
   },
   "outputs": [
    {
     "data": {
      "text/plain": [
       "array(['DEPARTAMENTO', 'PROVINCIA', 'DISTRITO', 'EDAD', 'METODODX_AG',\n",
       "       'METODODX_PCR', 'METODODX_PR', 'SEXO_FEMENINO', 'SEXO_MASCULINO'],\n",
       "      dtype=object)"
      ]
     },
     "execution_count": 315,
     "metadata": {},
     "output_type": "execute_result"
    }
   ],
   "source": [
    "columnas = df_new.columns.values\n",
    "columnas"
   ]
  },
  {
   "cell_type": "code",
   "execution_count": 316,
   "metadata": {
    "colab": {
     "base_uri": "https://localhost:8080/",
     "height": 204
    },
    "id": "kNdz-JsE0kq4",
    "outputId": "affc5952-237d-4c4c-921e-28f82a19f496"
   },
   "outputs": [
    {
     "data": {
      "text/html": [
       "<div>\n",
       "<style scoped>\n",
       "    .dataframe tbody tr th:only-of-type {\n",
       "        vertical-align: middle;\n",
       "    }\n",
       "\n",
       "    .dataframe tbody tr th {\n",
       "        vertical-align: top;\n",
       "    }\n",
       "\n",
       "    .dataframe thead th {\n",
       "        text-align: right;\n",
       "    }\n",
       "</style>\n",
       "<table border=\"1\" class=\"dataframe\">\n",
       "  <thead>\n",
       "    <tr style=\"text-align: right;\">\n",
       "      <th></th>\n",
       "      <th>DEPARTAMENTO</th>\n",
       "      <th>PROVINCIA</th>\n",
       "      <th>DISTRITO</th>\n",
       "      <th>EDAD</th>\n",
       "      <th>METODODX_AG</th>\n",
       "      <th>METODODX_PCR</th>\n",
       "      <th>METODODX_PR</th>\n",
       "      <th>SEXO_FEMENINO</th>\n",
       "      <th>SEXO_MASCULINO</th>\n",
       "    </tr>\n",
       "  </thead>\n",
       "  <tbody>\n",
       "    <tr>\n",
       "      <th>0</th>\n",
       "      <td>-0.940416</td>\n",
       "      <td>-0.872434</td>\n",
       "      <td>-0.826093</td>\n",
       "      <td>0.340831</td>\n",
       "      <td>-0.03857</td>\n",
       "      <td>-0.560444</td>\n",
       "      <td>0.562733</td>\n",
       "      <td>1.032371</td>\n",
       "      <td>-1.032371</td>\n",
       "    </tr>\n",
       "    <tr>\n",
       "      <th>1</th>\n",
       "      <td>-0.940416</td>\n",
       "      <td>-0.872434</td>\n",
       "      <td>-0.826093</td>\n",
       "      <td>0.842991</td>\n",
       "      <td>-0.03857</td>\n",
       "      <td>-0.560444</td>\n",
       "      <td>0.562733</td>\n",
       "      <td>1.032371</td>\n",
       "      <td>-1.032371</td>\n",
       "    </tr>\n",
       "    <tr>\n",
       "      <th>2</th>\n",
       "      <td>-0.940416</td>\n",
       "      <td>-0.872434</td>\n",
       "      <td>-0.826093</td>\n",
       "      <td>-0.663489</td>\n",
       "      <td>-0.03857</td>\n",
       "      <td>-0.560444</td>\n",
       "      <td>0.562733</td>\n",
       "      <td>1.032371</td>\n",
       "      <td>-1.032371</td>\n",
       "    </tr>\n",
       "    <tr>\n",
       "      <th>3</th>\n",
       "      <td>-0.940416</td>\n",
       "      <td>-0.872434</td>\n",
       "      <td>-0.826093</td>\n",
       "      <td>-0.217125</td>\n",
       "      <td>-0.03857</td>\n",
       "      <td>-0.560444</td>\n",
       "      <td>0.562733</td>\n",
       "      <td>1.032371</td>\n",
       "      <td>-1.032371</td>\n",
       "    </tr>\n",
       "    <tr>\n",
       "      <th>4</th>\n",
       "      <td>-0.883590</td>\n",
       "      <td>-0.790038</td>\n",
       "      <td>-0.269466</td>\n",
       "      <td>-0.105534</td>\n",
       "      <td>-0.03857</td>\n",
       "      <td>-0.560444</td>\n",
       "      <td>0.562733</td>\n",
       "      <td>1.032371</td>\n",
       "      <td>-1.032371</td>\n",
       "    </tr>\n",
       "  </tbody>\n",
       "</table>\n",
       "</div>"
      ],
      "text/plain": [
       "   DEPARTAMENTO  PROVINCIA  DISTRITO      EDAD  METODODX_AG  METODODX_PCR  \\\n",
       "0     -0.940416  -0.872434 -0.826093  0.340831     -0.03857     -0.560444   \n",
       "1     -0.940416  -0.872434 -0.826093  0.842991     -0.03857     -0.560444   \n",
       "2     -0.940416  -0.872434 -0.826093 -0.663489     -0.03857     -0.560444   \n",
       "3     -0.940416  -0.872434 -0.826093 -0.217125     -0.03857     -0.560444   \n",
       "4     -0.883590  -0.790038 -0.269466 -0.105534     -0.03857     -0.560444   \n",
       "\n",
       "   METODODX_PR  SEXO_FEMENINO  SEXO_MASCULINO  \n",
       "0     0.562733       1.032371       -1.032371  \n",
       "1     0.562733       1.032371       -1.032371  \n",
       "2     0.562733       1.032371       -1.032371  \n",
       "3     0.562733       1.032371       -1.032371  \n",
       "4     0.562733       1.032371       -1.032371  "
      ]
     },
     "execution_count": 316,
     "metadata": {},
     "output_type": "execute_result"
    }
   ],
   "source": [
    "# Normalizamos el dataset\n",
    "from sklearn.preprocessing import StandardScaler\n",
    "sc=StandardScaler()\n",
    "df_new=pd.DataFrame(sc.fit_transform(df_new),columns=list(columnas))\n",
    "df_new.head()"
   ]
  },
  {
   "cell_type": "markdown",
   "metadata": {
    "id": "55XrHNMCCsy2"
   },
   "source": [
    "## **3.2.Método del codo**"
   ]
  },
  {
   "cell_type": "code",
   "execution_count": 128,
   "metadata": {
    "colab": {
     "base_uri": "https://localhost:8080/",
     "height": 621
    },
    "id": "Fibf2ISUCgjf",
    "outputId": "28008d08-d623-4679-cdbf-1cd37a0abc45"
   },
   "outputs": [
    {
     "data": {
      "image/png": "[encoded data removed]",
      "text/plain": [
       "<Figure size 720x720 with 1 Axes>"
      ]
     },
     "metadata": {
      "needs_background": "light"
     },
     "output_type": "display_data"
    }
   ],
   "source": [
    "from sklearn.cluster import KMeans\n",
    "wcss = []\n",
    "for i in range(1, 15):\n",
    "    kmeans = KMeans(n_clusters = i, init = 'k-means++', random_state = 42)\n",
    "    kmeans.fit(df_new)\n",
    "    wcss.append(kmeans.inertia_)\n",
    "\n",
    "# Grafica de la suma de las distancias\n",
    "plt.figure(figsize = (10,10))\n",
    "plt.plot(range(1, 15), wcss)\n",
    "plt.title('Método del codo')\n",
    "plt.xlabel('Numero de cluster')\n",
    "plt.ylabel('WCSS')\n",
    "plt.show()"
   ]
  },
  {
   "cell_type": "markdown",
   "metadata": {
    "id": "DBrGnD8BRC17"
   },
   "source": [
    "# **4.Kmeans**"
   ]
  },
  {
   "cell_type": "code",
   "execution_count": 317,
   "metadata": {
    "id": "r7VAY9FIAmK4"
   },
   "outputs": [],
   "source": [
    "# Creando el k-Means para los 7 grupos encontrados\n",
    "kmeans = KMeans(n_clusters = 7, init = 'k-means++', random_state = 42)\n",
    "y_kmeans = kmeans.fit_predict(df_new)"
   ]
  },
  {
   "cell_type": "code",
   "execution_count": 304,
   "metadata": {
    "colab": {
     "base_uri": "https://localhost:8080/"
    },
    "id": "m57Akg7eGkFM",
    "outputId": "47dd9ff8-0580-4ee1-c7ac-bd925b955548"
   },
   "outputs": [
    {
     "data": {
      "text/plain": [
       "(1032697,)"
      ]
     },
     "execution_count": 304,
     "metadata": {},
     "output_type": "execute_result"
    }
   ],
   "source": [
    "y_kmeans.shape"
   ]
  },
  {
   "cell_type": "code",
   "execution_count": 318,
   "metadata": {
    "colab": {
     "base_uri": "https://localhost:8080/"
    },
    "id": "8p61QYPww3w7",
    "outputId": "d4648432-812e-4d4b-c95f-7ad23effe0ed"
   },
   "outputs": [
    {
     "data": {
      "text/plain": [
       "array([0, 1, 2, 3, 4, 5, 6])"
      ]
     },
     "execution_count": 318,
     "metadata": {},
     "output_type": "execute_result"
    }
   ],
   "source": [
    "np.unique(y_kmeans)"
   ]
  },
  {
   "cell_type": "markdown",
   "metadata": {
    "id": "xGro48lBw7LX"
   },
   "source": [
    "## **4.1.Reportes**"
   ]
  },
  {
   "cell_type": "code",
   "execution_count": 319,
   "metadata": {
    "id": "af7WtujoKm5B"
   },
   "outputs": [],
   "source": [
    "# Número de instancias por clase\n",
    "inst_class = pd.DataFrame(y_kmeans).value_counts()\n",
    "cluster =[]\n",
    "num_instancias =[]\n",
    "\n",
    "for i in range(len(inst_class.values)):\n",
    "  num_instancias.append(inst_class.values[i])\n",
    "  cluster.append(inst_class.index.values[i][0])\n",
    "\n",
    "instancias ={\n",
    "    \"Cluster\":cluster,\n",
    "    \"Numero_observaciones\":num_instancias\n",
    "}"
   ]
  },
  {
   "cell_type": "code",
   "execution_count": 320,
   "metadata": {
    "colab": {
     "base_uri": "https://localhost:8080/",
     "height": 266
    },
    "id": "xNRvAYuvDxgV",
    "outputId": "064e606b-e594-460b-d687-ab29fd5bbd2e"
   },
   "outputs": [
    {
     "data": {
      "text/html": [
       "<div>\n",
       "<style scoped>\n",
       "    .dataframe tbody tr th:only-of-type {\n",
       "        vertical-align: middle;\n",
       "    }\n",
       "\n",
       "    .dataframe tbody tr th {\n",
       "        vertical-align: top;\n",
       "    }\n",
       "\n",
       "    .dataframe thead th {\n",
       "        text-align: right;\n",
       "    }\n",
       "</style>\n",
       "<table border=\"1\" class=\"dataframe\">\n",
       "  <thead>\n",
       "    <tr style=\"text-align: right;\">\n",
       "      <th></th>\n",
       "      <th>Cluster</th>\n",
       "      <th>Numero_observaciones</th>\n",
       "    </tr>\n",
       "  </thead>\n",
       "  <tbody>\n",
       "    <tr>\n",
       "      <th>0</th>\n",
       "      <td>2</td>\n",
       "      <td>264232</td>\n",
       "    </tr>\n",
       "    <tr>\n",
       "      <th>1</th>\n",
       "      <td>0</td>\n",
       "      <td>252945</td>\n",
       "    </tr>\n",
       "    <tr>\n",
       "      <th>2</th>\n",
       "      <td>4</td>\n",
       "      <td>157957</td>\n",
       "    </tr>\n",
       "    <tr>\n",
       "      <th>3</th>\n",
       "      <td>3</td>\n",
       "      <td>136161</td>\n",
       "    </tr>\n",
       "    <tr>\n",
       "      <th>4</th>\n",
       "      <td>1</td>\n",
       "      <td>130988</td>\n",
       "    </tr>\n",
       "    <tr>\n",
       "      <th>5</th>\n",
       "      <td>5</td>\n",
       "      <td>88880</td>\n",
       "    </tr>\n",
       "    <tr>\n",
       "      <th>6</th>\n",
       "      <td>6</td>\n",
       "      <td>1534</td>\n",
       "    </tr>\n",
       "  </tbody>\n",
       "</table>\n",
       "</div>"
      ],
      "text/plain": [
       "   Cluster  Numero_observaciones\n",
       "0        2                264232\n",
       "1        0                252945\n",
       "2        4                157957\n",
       "3        3                136161\n",
       "4        1                130988\n",
       "5        5                 88880\n",
       "6        6                  1534"
      ]
     },
     "execution_count": 320,
     "metadata": {},
     "output_type": "execute_result"
    }
   ],
   "source": [
    "reporte1 = pd.DataFrame(instancias)\n",
    "reporte1"
   ]
  },
  {
   "cell_type": "code",
   "execution_count": 321,
   "metadata": {
    "colab": {
     "base_uri": "https://localhost:8080/"
    },
    "id": "tmEcpQ9bEOKu",
    "outputId": "f2148d5e-d864-4094-bc02-fea7fc85bffb"
   },
   "outputs": [
    {
     "data": {
      "text/plain": [
       "array([[-8.35620380e-01, -7.94613251e-01, -4.10074731e-01,\n",
       "        -7.24209352e-03, -3.85699450e-02, -5.60444405e-01,\n",
       "         5.62732680e-01, -9.68643683e-01,  9.68643683e-01],\n",
       "       [ 1.19278967e+00,  1.24438213e+00,  4.78435932e-01,\n",
       "        -1.01014218e-02, -3.85699450e-02, -5.60444405e-01,\n",
       "         5.62732680e-01,  1.03237136e+00, -1.03237136e+00],\n",
       "       [-8.37249527e-01, -7.96017907e-01, -4.14773637e-01,\n",
       "        -1.05678526e-01, -3.85699450e-02, -5.60444405e-01,\n",
       "         5.62732680e-01,  1.03237136e+00, -1.03237136e+00],\n",
       "       [ 1.19467190e+00,  1.24944672e+00,  4.80151427e-01,\n",
       "         3.43149406e-02, -3.85699450e-02, -5.60444405e-01,\n",
       "         5.62732680e-01, -9.68643683e-01,  9.68643683e-01],\n",
       "       [ 1.18397400e+00,  9.33795537e-01,  7.98495564e-01,\n",
       "         8.59665875e-02, -3.85699450e-02,  1.78429830e+00,\n",
       "        -1.77704270e+00, -1.54477575e-01,  1.54477575e-01],\n",
       "       [-8.29294647e-01, -7.84569653e-01, -4.60789384e-01,\n",
       "         1.42702137e-01, -3.85699450e-02,  1.78429830e+00,\n",
       "        -1.77704270e+00, -7.46933632e-02,  7.46933632e-02],\n",
       "       [ 7.83584186e-02,  1.15860210e-01, -6.51340278e-03,\n",
       "         8.59681950e-02,  2.59269232e+01, -5.60444405e-01,\n",
       "        -1.77704270e+00, -4.50982772e-02,  4.50982772e-02]])"
      ]
     },
     "execution_count": 321,
     "metadata": {},
     "output_type": "execute_result"
    }
   ],
   "source": [
    "# Centroides del cluster final\n",
    "kmeans.cluster_centers_"
   ]
  },
  {
   "cell_type": "markdown",
   "metadata": {
    "id": "-iJ7fD6qD5m4"
   },
   "source": [
    "# **5.Visualización de resultados**"
   ]
  },
  {
   "cell_type": "code",
   "execution_count": 380,
   "metadata": {},
   "outputs": [
    {
     "data": {
      "text/plain": [
       "array([0, 1, 2, 3, 4, 5, 6])"
      ]
     },
     "execution_count": 380,
     "metadata": {},
     "output_type": "execute_result"
    }
   ],
   "source": [
    "# Etiquetas\n",
    "np.unique(y_kmeans)"
   ]
  },
  {
   "cell_type": "code",
   "execution_count": 323,
   "metadata": {},
   "outputs": [
    {
     "data": {
      "text/html": [
       "<div>\n",
       "<style scoped>\n",
       "    .dataframe tbody tr th:only-of-type {\n",
       "        vertical-align: middle;\n",
       "    }\n",
       "\n",
       "    .dataframe tbody tr th {\n",
       "        vertical-align: top;\n",
       "    }\n",
       "\n",
       "    .dataframe thead th {\n",
       "        text-align: right;\n",
       "    }\n",
       "</style>\n",
       "<table border=\"1\" class=\"dataframe\">\n",
       "  <thead>\n",
       "    <tr style=\"text-align: right;\">\n",
       "      <th></th>\n",
       "      <th>DEPARTAMENTO</th>\n",
       "      <th>PROVINCIA</th>\n",
       "      <th>DISTRITO</th>\n",
       "      <th>METODODX</th>\n",
       "      <th>EDAD</th>\n",
       "      <th>SEXO</th>\n",
       "      <th>CLUSTER</th>\n",
       "    </tr>\n",
       "  </thead>\n",
       "  <tbody>\n",
       "    <tr>\n",
       "      <th>0</th>\n",
       "      <td>TUMBES</td>\n",
       "      <td>ZARUMILLA</td>\n",
       "      <td>ZARUMILLA</td>\n",
       "      <td>PR</td>\n",
       "      <td>48.0</td>\n",
       "      <td>FEMENINO</td>\n",
       "      <td>2</td>\n",
       "    </tr>\n",
       "    <tr>\n",
       "      <th>1</th>\n",
       "      <td>TUMBES</td>\n",
       "      <td>ZARUMILLA</td>\n",
       "      <td>ZARUMILLA</td>\n",
       "      <td>PR</td>\n",
       "      <td>57.0</td>\n",
       "      <td>FEMENINO</td>\n",
       "      <td>2</td>\n",
       "    </tr>\n",
       "    <tr>\n",
       "      <th>2</th>\n",
       "      <td>TUMBES</td>\n",
       "      <td>ZARUMILLA</td>\n",
       "      <td>ZARUMILLA</td>\n",
       "      <td>PR</td>\n",
       "      <td>30.0</td>\n",
       "      <td>FEMENINO</td>\n",
       "      <td>2</td>\n",
       "    </tr>\n",
       "    <tr>\n",
       "      <th>3</th>\n",
       "      <td>TUMBES</td>\n",
       "      <td>ZARUMILLA</td>\n",
       "      <td>ZARUMILLA</td>\n",
       "      <td>PR</td>\n",
       "      <td>38.0</td>\n",
       "      <td>FEMENINO</td>\n",
       "      <td>2</td>\n",
       "    </tr>\n",
       "    <tr>\n",
       "      <th>4</th>\n",
       "      <td>UCAYALI</td>\n",
       "      <td>CORONEL PORTILLO</td>\n",
       "      <td>CALLERIA</td>\n",
       "      <td>PR</td>\n",
       "      <td>40.0</td>\n",
       "      <td>FEMENINO</td>\n",
       "      <td>2</td>\n",
       "    </tr>\n",
       "  </tbody>\n",
       "</table>\n",
       "</div>"
      ],
      "text/plain": [
       "  DEPARTAMENTO         PROVINCIA   DISTRITO METODODX  EDAD      SEXO  CLUSTER\n",
       "0       TUMBES         ZARUMILLA  ZARUMILLA       PR  48.0  FEMENINO        2\n",
       "1       TUMBES         ZARUMILLA  ZARUMILLA       PR  57.0  FEMENINO        2\n",
       "2       TUMBES         ZARUMILLA  ZARUMILLA       PR  30.0  FEMENINO        2\n",
       "3       TUMBES         ZARUMILLA  ZARUMILLA       PR  38.0  FEMENINO        2\n",
       "4      UCAYALI  CORONEL PORTILLO   CALLERIA       PR  40.0  FEMENINO        2"
      ]
     },
     "execution_count": 323,
     "metadata": {},
     "output_type": "execute_result"
    }
   ],
   "source": [
    "# Juntamos el dataset original con la etiqueta cluster\n",
    "df_final = pd.concat([pd.read_csv(\"./positivos_covid_procesado_v1.csv\",sep = \",\"),\n",
    "                    pd.DataFrame(y_kmeans)\n",
    "                   ],axis=1)\n",
    "df_final.rename(columns ={0:'CLUSTER'},inplace = True)\n",
    "df_final.head()"
   ]
  },
  {
   "cell_type": "code",
   "execution_count": 324,
   "metadata": {},
   "outputs": [],
   "source": [
    "# Guardamos el dataset final\n",
    "df_final.to_csv(\"./positivos_covid_procesado_final.csv\",index = False)"
   ]
  },
  {
   "cell_type": "code",
   "execution_count": 394,
   "metadata": {},
   "outputs": [],
   "source": [
    "# Dividimos por cluster\n",
    "cluster_0 =df_final[df_final[\"CLUSTER\"] == 0]\n",
    "cluster_1 =df_final[df_final[\"CLUSTER\"] == 1]\n",
    "cluster_2 =df_final[df_final[\"CLUSTER\"] == 2]\n",
    "cluster_3 =df_final[df_final[\"CLUSTER\"] == 3]\n",
    "cluster_4 =df_final[df_final[\"CLUSTER\"] == 4]\n",
    "cluster_5 =df_final[df_final[\"CLUSTER\"] == 5]\n",
    "cluster_6 =df_final[df_final[\"CLUSTER\"] == 6]"
   ]
  },
  {
   "cell_type": "code",
   "execution_count": 395,
   "metadata": {},
   "outputs": [
    {
     "data": {
      "text/plain": [
       "{'Cluster0': 26,\n",
       " 'Cluster1': 1,\n",
       " 'Cluster2': 26,\n",
       " 'Cluster3': 1,\n",
       " 'Cluster4': 10,\n",
       " 'Cluster5': 25,\n",
       " 'Cluster6': 25}"
      ]
     },
     "execution_count": 395,
     "metadata": {},
     "output_type": "execute_result"
    }
   ],
   "source": [
    "# Número de departamentos por cluster\n",
    "num_dpto = {}\n",
    "for i in range(len(np.unique(y_kmeans))):\n",
    "    cluster = str(\"Cluster\")+str(i)\n",
    "    num_dpto.setdefault(cluster,\n",
    "                        len(df_final[df_final[\"CLUSTER\"] == i]['DEPARTAMENTO'].value_counts())\n",
    "                       )\n",
    "num_dpto"
   ]
  },
  {
   "cell_type": "code",
   "execution_count": 396,
   "metadata": {},
   "outputs": [
    {
     "data": {
      "image/png": "[encoded data removed]",
      "text/plain": [
       "<Figure size 432x288 with 1 Axes>"
      ]
     },
     "metadata": {
      "needs_background": "light"
     },
     "output_type": "display_data"
    }
   ],
   "source": [
    "llaves = list(num_dpto.keys())\n",
    "valores = list(num_dpto.values())\n",
    "fig, ax = plt.subplots()\n",
    "#Colocamos una etiqueta en el eje Y\n",
    "ax.set_ylabel('Numero de departamentos')\n",
    "#Colocamos una etiqueta en el eje X\n",
    "ax.set_title('Numero de departamentos por cluster')\n",
    "#Creamos la grafica de barras utilizando 'paises' como eje X y 'ventas' como eje y.\n",
    "plt.bar(llaves, valores)\n",
    "plt.xticks(rotation=90)\n",
    "#plt.savefig('barras_simple.png')\n",
    "#Finalmente mostramos la grafica con el metodo show()\n",
    "plt.show()"
   ]
  },
  {
   "cell_type": "code",
   "execution_count": null,
   "metadata": {},
   "outputs": [],
   "source": [
    "# Como se ve hay 4 cluster que presentan todos los departamentos\n",
    "# Además los Cluster 1 y 3 solo tienen a Lima como departamento"
   ]
  },
  {
   "cell_type": "code",
   "execution_count": 383,
   "metadata": {},
   "outputs": [
    {
     "name": "stdout",
     "output_type": "stream",
     "text": [
      "['LIMA'] ['EN INVESTIGACIÓN' 'LIMA'] ['PR'] ['FEMENINO']\n",
      "['LIMA'] ['EN INVESTIGACIÓN' 'LIMA'] ['PR'] ['MASCULINO']\n"
     ]
    }
   ],
   "source": [
    "# Analizamos los cluster 1 y 3\n",
    "print(np.unique(cluster_1[\"DEPARTAMENTO\"]),np.unique(cluster_1[\"PROVINCIA\"]),np.unique(cluster_1[\"METODODX\"]),np.unique(cluster_1[\"SEXO\"]))\n",
    "print(np.unique(cluster_3[\"DEPARTAMENTO\"]),np.unique(cluster_3[\"PROVINCIA\"]),np.unique(cluster_3[\"METODODX\"]),np.unique(cluster_3[\"SEXO\"]))"
   ]
  },
  {
   "cell_type": "code",
   "execution_count": null,
   "metadata": {},
   "outputs": [],
   "source": [
    "# Se puede ver que el factor diferenciador para este par de cluster fue el sexo de las personas\n",
    "# Ya que en las demás variables están iguales"
   ]
  },
  {
   "cell_type": "code",
   "execution_count": 451,
   "metadata": {},
   "outputs": [
    {
     "data": {
      "text/plain": [
       "PIURA          20595\n",
       "AREQUIPA       20592\n",
       "LA LIBERTAD    16556\n",
       "CALLAO         15647\n",
       "ICA            14784\n",
       "LAMBAYEQUE     14663\n",
       "JUNIN          13282\n",
       "LIMA REGION    12823\n",
       "ANCASH         12630\n",
       "SAN MARTIN     12047\n",
       "Name: DEPARTAMENTO, dtype: int64"
      ]
     },
     "execution_count": 451,
     "metadata": {},
     "output_type": "execute_result"
    }
   ],
   "source": [
    "# Analizamos el cluster 2, ya que es el que mayor numero de instancias tiene en le dataset\n",
    "cluster_2['DEPARTAMENTO'].value_counts()[0:10]"
   ]
  },
  {
   "cell_type": "code",
   "execution_count": 452,
   "metadata": {},
   "outputs": [
    {
     "data": {
      "text/plain": [
       "AREQUIPA            17425\n",
       "CALLAO              14705\n",
       "EN INVESTIGACIÓN    12242\n",
       "TRUJILLO            10538\n",
       "CHICLAYO             9580\n",
       "                    ...  \n",
       "CORONGO                23\n",
       "CAJATAMBO              23\n",
       "SUCRE                  17\n",
       "LAURICOCHA             17\n",
       "BOLIVAR                 7\n",
       "Name: PROVINCIA, Length: 196, dtype: int64"
      ]
     },
     "execution_count": 452,
     "metadata": {},
     "output_type": "execute_result"
    }
   ],
   "source": [
    "cluster_2['PROVINCIA'].value_counts()"
   ]
  },
  {
   "cell_type": "code",
   "execution_count": 453,
   "metadata": {},
   "outputs": [
    {
     "data": {
      "text/plain": [
       "EN INVESTIGACIÓN    12242\n",
       "CALLAO               8227\n",
       "MOQUEGUA             4374\n",
       "CALLERIA             4361\n",
       "VENTANILLA           4338\n",
       "CHICLAYO             4290\n",
       "ICA                  3789\n",
       "TRUJILLO             3704\n",
       "CAJAMARCA            3650\n",
       "PIURA                3603\n",
       "JULIACA              3247\n",
       "CHIMBOTE             3208\n",
       "Name: DISTRITO, dtype: int64"
      ]
     },
     "execution_count": 453,
     "metadata": {},
     "output_type": "execute_result"
    }
   ],
   "source": [
    "cluster_2['DISTRITO'].value_counts()[0:12]"
   ]
  },
  {
   "cell_type": "code",
   "execution_count": 449,
   "metadata": {},
   "outputs": [
    {
     "data": {
      "text/plain": [
       "LIMA            157116\n",
       "CALLAO             443\n",
       "HUANUCO            303\n",
       "LIMA REGION         64\n",
       "UCAYALI             20\n",
       "LORETO               4\n",
       "APURIMAC             3\n",
       "CUSCO                2\n",
       "HUANCAVELICA         1\n",
       "JUNIN                1\n",
       "Name: DEPARTAMENTO, dtype: int64"
      ]
     },
     "execution_count": 449,
     "metadata": {},
     "output_type": "execute_result"
    }
   ],
   "source": [
    "# Analizamos el cluster 4\n",
    "cluster_4['DEPARTAMENTO'].value_counts()[0:10]"
   ]
  },
  {
   "cell_type": "code",
   "execution_count": 450,
   "metadata": {},
   "outputs": [
    {
     "data": {
      "text/plain": [
       "LIMA                129193\n",
       "EN INVESTIGACIÓN     28764\n",
       "Name: PROVINCIA, dtype: int64"
      ]
     },
     "execution_count": 450,
     "metadata": {},
     "output_type": "execute_result"
    }
   ],
   "source": [
    "cluster_4['PROVINCIA'].value_counts()[0:10]"
   ]
  },
  {
   "cell_type": "code",
   "execution_count": 448,
   "metadata": {},
   "outputs": [
    {
     "data": {
      "text/plain": [
       "EN INVESTIGACIÓN           28764\n",
       "SAN JUAN DE LURIGANCHO     10649\n",
       "SAN MARTIN DE PORRES        9915\n",
       "COMAS                       8267\n",
       "LIMA                        8058\n",
       "SANTIAGO DE SURCO           6393\n",
       "LOS OLIVOS                  6095\n",
       "SAN JUAN DE MIRAFLORES      5429\n",
       "VILLA EL SALVADOR           5341\n",
       "VILLA MARIA DEL TRIUNFO     5288\n",
       "Name: DISTRITO, dtype: int64"
      ]
     },
     "execution_count": 448,
     "metadata": {},
     "output_type": "execute_result"
    }
   ],
   "source": [
    "cluster_4['DISTRITO'].value_counts()[0:10]"
   ]
  }
 ],
 "metadata": {
  "colab": {
   "collapsed_sections": [],
   "name": "Kmeans.ipynb",
   "provenance": [],
   "toc_visible": true
  },
  "kernelspec": {
   "display_name": "Python 3",
   "language": "python",
   "name": "python3"
  },
  "language_info": {
   "codemirror_mode": {
    "name": "ipython",
    "version": 3
   },
   "file_extension": ".py",
   "mimetype": "text/x-python",
   "name": "python",
   "nbconvert_exporter": "python",
   "pygments_lexer": "ipython3",
   "version": "3.7.9"
  }
 },
 "nbformat": 4,
 "nbformat_minor": 1
}
